{
 "cells": [
  {
   "cell_type": "code",
   "execution_count": null,
   "metadata": {},
   "outputs": [],
   "source": [
    "import pandas as pd\n",
    "import numpy as np"
   ]
  },
  {
   "cell_type": "code",
   "execution_count": null,
   "metadata": {},
   "outputs": [],
   "source": [
    "class FinanceData():\n",
    "    def __init__(self, ticker, start, end):\n",
    "        self.ticker = ticker\n",
    "        self.start = start\n",
    "        self.end = end\n",
    "        self.getdata()\n",
    "    \n",
    "    def __repr__(self):\n",
    "        return 'FinanceData for ticker {} from {} to {}'.format(self.ticker,\n",
    "                                                                self.start,\n",
    "                                                                self.end)\n",
    "        \n",
    "    def getdata(self):\n",
    "        stock = yf.download(self.ticker, self.start, self.end)['Adj Close']\n",
    "        if len(self.ticker) == 1:\n",
    "            stock = stock.to_frame()\n",
    "            stock.rename(columns = {'Adj Close' : str(self.ticker[0])}, inplace = True)\n",
    "        self.data = stock\n",
    "    \n",
    "    def csv(self):\n",
    "        self.data.to_csv('data.csv')"
   ]
  },
  {
   "cell_type": "code",
   "execution_count": null,
   "metadata": {},
   "outputs": [],
   "source": [
    "# list = pd.read_excel('/Users/hamidrezarahimzadeh/Desktop/University/Portfolio DL Project/TickerList.xlsx')['Symbol']\n",
    "# ticker_list = list.tolist()\n",
    "# ticker_list = ['MSFT']"
   ]
  },
  {
   "cell_type": "code",
   "execution_count": null,
   "metadata": {},
   "outputs": [],
   "source": [
    "# df = FinanceData(ticker_list, '2014-07-01', '2019-12-31').data"
   ]
  }
 ],
 "metadata": {
  "kernelspec": {
   "display_name": "base",
   "language": "python",
   "name": "python3"
  },
  "language_info": {
   "name": "python",
   "version": "3.9.13 (main, Aug 25 2022, 18:29:29) \n[Clang 12.0.0 ]"
  },
  "orig_nbformat": 4,
  "vscode": {
   "interpreter": {
    "hash": "72a5606bcafec1593511b6d198bb0982fb8ea54acb1913d581966686ae52246b"
   }
  }
 },
 "nbformat": 4,
 "nbformat_minor": 2
}
