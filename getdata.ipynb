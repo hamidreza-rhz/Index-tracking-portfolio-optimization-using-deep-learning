{
 "cells": [
  {
   "cell_type": "code",
   "execution_count": 1,
   "metadata": {},
   "outputs": [],
   "source": [
    "import pandas as pd\n",
    "import yfinance as yf\n",
    "import numpy as np"
   ]
  },
  {
   "cell_type": "code",
   "execution_count": 8,
   "metadata": {},
   "outputs": [],
   "source": [
    "class FinanceData():\n",
    "    def __init__(self, ticker, start, end):\n",
    "        self.ticker = ticker\n",
    "        self.start = start\n",
    "        self.end = end\n",
    "        self.getdata()\n",
    "    \n",
    "    def __repr__(self):\n",
    "        return 'FinanceData for ticker {} from {} to {}'.format(self.ticker,\n",
    "                                                                self.start,\n",
    "                                                                self.end)\n",
    "        \n",
    "    def getdata(self):\n",
    "        stock = yf.download(self.ticker, self.start, self.end)['Adj Close']\n",
    "        if len(self.ticker) == 1:\n",
    "            stock = stock.to_frame()\n",
    "            stock.rename(columns = {'Adj Close' : str(self.ticker[0])}, inplace = True)\n",
    "        self.data = stock\n",
    "    \n",
    "    def csv(self, filename):\n",
    "        self.data.to_csv(filename)"
   ]
  },
  {
   "cell_type": "code",
   "execution_count": null,
   "metadata": {},
   "outputs": [],
   "source": [
    "# ticker_list = pd.read_excel('TickerList.xlsx')['Symbol']\n",
    "# ticker_list = ticker_list.tolist()"
   ]
  },
  {
   "cell_type": "code",
   "execution_count": null,
   "metadata": {},
   "outputs": [],
   "source": [
    "# df = FinanceData(ticker_list, '2014-07-01', '2019-12-31').data\n",
    "# df = df.set_index('Date')"
   ]
  },
  {
   "cell_type": "code",
   "execution_count": 7,
   "metadata": {},
   "outputs": [],
   "source": [
    "# df = pd.read_csv('data_old 2.csv')"
   ]
  },
  {
   "cell_type": "code",
   "execution_count": 8,
   "metadata": {},
   "outputs": [
    {
     "name": "stdout",
     "output_type": "stream",
     "text": [
      "CFG - % of Null price: 4.26% (59)\n",
      "CTVA - % of Null price: 89.03% (1233)\n",
      "DOW - % of Null price: 85.7% (1187)\n",
      "FOX - % of Null price: 85.34% (1182)\n",
      "FOXA - % of Null price: 85.27% (1181)\n",
      "FTV - % of Null price: 36.53% (506)\n",
      "HPE - % of Null price: 23.68% (328)\n",
      "KEYS - % of Null price: 5.56% (77)\n",
      "KHC - % of Null price: 18.34% (254)\n",
      "LW - % of Null price: 43.1% (597)\n",
      "PYPL - % of Null price: 18.34% (254)\n",
      "QRVO - % of Null price: 9.24% (128)\n",
      "SYF - % of Null price: 1.52% (21)\n",
      "UA - % of Null price: 31.41% (435)\n",
      "WRK - % of Null price: 17.83% (247)\n"
     ]
    }
   ],
   "source": [
    "# for i in range(0, 479):\n",
    "#     count = df.iloc[:,i].isna().sum()\n",
    "#     if count > 0:\n",
    "#         print(df.columns[i], f'- % of Null price: {round(count*100/1385, 2)}%', f'({count})')"
   ]
  },
  {
   "cell_type": "code",
   "execution_count": 11,
   "metadata": {},
   "outputs": [],
   "source": [
    "# Below we handle null data\n",
    "# df = df.drop(['CTVA','DOW','FOX','FOXA','FTV','HPE','LW','UA'], axis = 1)"
   ]
  },
  {
   "cell_type": "code",
   "execution_count": 2,
   "metadata": {},
   "outputs": [],
   "source": [
    "df = pd.read_csv('data.csv')\n",
    "df = df.set_index('Date')"
   ]
  },
  {
   "cell_type": "code",
   "execution_count": 3,
   "metadata": {},
   "outputs": [],
   "source": [
    "def data_process(df):\n",
    "    df = df.pct_change()\n",
    "    df = df.tail(-1)\n",
    "    df = df + 1\n",
    "    df = df.cumprod()\n",
    "    df = df - 1\n",
    "    df = df.iloc[-1,:]\n",
    "    return df"
   ]
  },
  {
   "cell_type": "code",
   "execution_count": 7,
   "metadata": {},
   "outputs": [
    {
     "data": {
      "text/plain": [
       "A       1.148401\n",
       "AAL    -0.318096\n",
       "AAP     0.193720\n",
       "AAPL    2.424275\n",
       "ABBV    0.927865\n",
       "          ...   \n",
       "ZBRA    1.987421\n",
       "ZION    0.896761\n",
       "ZTS     3.229247\n",
       "CPRI   -0.582407\n",
       "M      -0.628965\n",
       "Name: 12/30/19 0:00, Length: 471, dtype: float64"
      ]
     },
     "execution_count": 7,
     "metadata": {},
     "output_type": "execute_result"
    }
   ],
   "source": [
    "data_process(df)"
   ]
  },
  {
   "cell_type": "code",
   "execution_count": 10,
   "metadata": {},
   "outputs": [
    {
     "name": "stdout",
     "output_type": "stream",
     "text": [
      "[*********************100%***********************]  1 of 1 completed\n"
     ]
    },
    {
     "data": {
      "text/plain": [
       "^GSPC    0.632422\n",
       "Name: 2019-12-30 00:00:00, dtype: float64"
      ]
     },
     "execution_count": 10,
     "metadata": {},
     "output_type": "execute_result"
    }
   ],
   "source": [
    "sp_ticker = ['^GSPC']\n",
    "sp = FinanceData(sp_ticker, '2014-07-01', '2019-12-31')\n",
    "data_process(sp.data)"
   ]
  }
 ],
 "metadata": {
  "kernelspec": {
   "display_name": "base",
   "language": "python",
   "name": "python3"
  },
  "language_info": {
   "codemirror_mode": {
    "name": "ipython",
    "version": 3
   },
   "file_extension": ".py",
   "mimetype": "text/x-python",
   "name": "python",
   "nbconvert_exporter": "python",
   "pygments_lexer": "ipython3",
   "version": "3.9.13"
  },
  "orig_nbformat": 4,
  "vscode": {
   "interpreter": {
    "hash": "72a5606bcafec1593511b6d198bb0982fb8ea54acb1913d581966686ae52246b"
   }
  }
 },
 "nbformat": 4,
 "nbformat_minor": 2
}
