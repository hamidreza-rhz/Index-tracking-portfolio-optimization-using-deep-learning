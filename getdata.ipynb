{
 "cells": [
  {
   "cell_type": "code",
   "execution_count": 1,
   "metadata": {},
   "outputs": [],
   "source": [
    "import pandas as pd\n",
    "import yfinance as yf"
   ]
  },
  {
   "cell_type": "code",
   "execution_count": null,
   "metadata": {},
   "outputs": [],
   "source": [
    "class FinanceData():\n",
    "    def __init__(self, ticker, start, end):\n",
    "        self.ticker = ticker\n",
    "        self.start = start\n",
    "        self.end = end\n",
    "        self.getdata()\n",
    "    \n",
    "    def __repr__(self):\n",
    "        return 'FinanceData for ticker {} from {} to {}'.format(self.ticker,\n",
    "                                                                self.start,\n",
    "                                                                self.end)\n",
    "        \n",
    "    def getdata(self):\n",
    "        stock = yf.download(self.ticker, self.start, self.end)['Adj Close']\n",
    "        if len(self.ticker) == 1:\n",
    "            stock = stock.to_frame()\n",
    "            stock.rename(columns = {'Adj Close' : str(self.ticker[0])}, inplace = True)\n",
    "        self.data = stock\n",
    "    \n",
    "    def csv(self):\n",
    "        self.data.to_csv('data.csv')"
   ]
  },
  {
   "cell_type": "code",
   "execution_count": null,
   "metadata": {},
   "outputs": [],
   "source": [
    "# ticker_list = pd.read_excel('TickerList.xlsx')['Symbol']\n",
    "# ticker_list = ticker_list.tolist()"
   ]
  },
  {
   "cell_type": "code",
   "execution_count": null,
   "metadata": {},
   "outputs": [],
   "source": [
    "# df = FinanceData(ticker_list, '2014-07-01', '2019-12-31').data\n",
    "# df = df.set_index('Date')"
   ]
  },
  {
   "cell_type": "code",
   "execution_count": 3,
   "metadata": {},
   "outputs": [],
   "source": [
    "df = pd.read_csv('data.csv')"
   ]
  },
  {
   "cell_type": "code",
   "execution_count": 12,
   "metadata": {},
   "outputs": [
    {
     "name": "stdout",
     "output_type": "stream",
     "text": [
      "CFG - % of Null price: 4.26% (59)\n",
      "CTVA - % of Null price: 89.03% (1233)\n",
      "DOW - % of Null price: 85.7% (1187)\n",
      "FOX - % of Null price: 85.34% (1182)\n",
      "FOXA - % of Null price: 85.27% (1181)\n",
      "FTV - % of Null price: 36.53% (506)\n",
      "HPE - % of Null price: 23.68% (328)\n",
      "KEYS - % of Null price: 5.56% (77)\n",
      "KHC - % of Null price: 18.34% (254)\n",
      "LW - % of Null price: 43.1% (597)\n",
      "PYPL - % of Null price: 18.34% (254)\n",
      "QRVO - % of Null price: 9.24% (128)\n",
      "SYF - % of Null price: 1.52% (21)\n",
      "UA - % of Null price: 31.41% (435)\n",
      "WRK - % of Null price: 17.83% (247)\n"
     ]
    }
   ],
   "source": [
    "for i in range(0, 479):\n",
    "    count = df.iloc[:,i].isna().sum()\n",
    "    if count > 0:\n",
    "        print(df.columns[i], f'- % of Null price: {round(count*100/1385, 2)}%', f'({count})')"
   ]
  }
 ],
 "metadata": {
  "kernelspec": {
   "display_name": "base",
   "language": "python",
   "name": "python3"
  },
  "language_info": {
   "codemirror_mode": {
    "name": "ipython",
    "version": 3
   },
   "file_extension": ".py",
   "mimetype": "text/x-python",
   "name": "python",
   "nbconvert_exporter": "python",
   "pygments_lexer": "ipython3",
   "version": "3.9.13"
  },
  "orig_nbformat": 4,
  "vscode": {
   "interpreter": {
    "hash": "72a5606bcafec1593511b6d198bb0982fb8ea54acb1913d581966686ae52246b"
   }
  }
 },
 "nbformat": 4,
 "nbformat_minor": 2
}
