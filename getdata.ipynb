{
 "cells": [
  {
   "cell_type": "code",
   "execution_count": 3,
   "metadata": {},
   "outputs": [],
   "source": [
    "import pandas as pd\n",
    "import yfinance as yf"
   ]
  },
  {
   "cell_type": "code",
   "execution_count": null,
   "metadata": {},
   "outputs": [],
   "source": [
    "class FinanceData():\n",
    "    def __init__(self, ticker, start, end):\n",
    "        self.ticker = ticker\n",
    "        self.start = start\n",
    "        self.end = end\n",
    "        self.getdata()\n",
    "    \n",
    "    def __repr__(self):\n",
    "        return 'FinanceData for ticker {} from {} to {}'.format(self.ticker,\n",
    "                                                                self.start,\n",
    "                                                                self.end)\n",
    "        \n",
    "    def getdata(self):\n",
    "        stock = yf.download(self.ticker, self.start, self.end)['Adj Close']\n",
    "        if len(self.ticker) == 1:\n",
    "            stock = stock.to_frame()\n",
    "            stock.rename(columns = {'Adj Close' : str(self.ticker[0])}, inplace = True)\n",
    "        self.data = stock\n",
    "    \n",
    "    def csv(self):\n",
    "        self.data.to_csv('data.csv')"
   ]
  },
  {
   "cell_type": "code",
   "execution_count": null,
   "metadata": {},
   "outputs": [],
   "source": [
    "ticker_list = pd.read_excel('TickerList.xlsx')['Symbol']\n",
    "ticker_list = ticker_list.tolist()"
   ]
  },
  {
   "cell_type": "code",
   "execution_count": null,
   "metadata": {},
   "outputs": [],
   "source": [
    "df = FinanceData(ticker_list, '2014-07-01', '2019-12-31').data\n",
    "df = df.set_index('Date')"
   ]
  },
  {
   "cell_type": "code",
   "execution_count": null,
   "metadata": {},
   "outputs": [],
   "source": [
    "for i in range(0, 479):\n",
    "    count = df.iloc[:,i].isna().sum()\n",
    "    if count > 0:\n",
    "        print(df.columns[i], round(count*100/1385, 2), count)"
   ]
  }
 ],
 "metadata": {
  "kernelspec": {
   "display_name": "base",
   "language": "python",
   "name": "python3"
  },
  "language_info": {
   "codemirror_mode": {
    "name": "ipython",
    "version": 3
   },
   "file_extension": ".py",
   "mimetype": "text/x-python",
   "name": "python",
   "nbconvert_exporter": "python",
   "pygments_lexer": "ipython3",
   "version": "3.9.13"
  },
  "orig_nbformat": 4,
  "vscode": {
   "interpreter": {
    "hash": "72a5606bcafec1593511b6d198bb0982fb8ea54acb1913d581966686ae52246b"
   }
  }
 },
 "nbformat": 4,
 "nbformat_minor": 2
}
