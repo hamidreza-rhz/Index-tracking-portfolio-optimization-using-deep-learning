{
 "cells": [
  {
   "cell_type": "code",
   "execution_count": 1,
   "metadata": {},
   "outputs": [],
   "source": [
    "import torch\n",
    "import torch.nn as nn\n",
    "import torch.nn.functional as F"
   ]
  },
  {
   "cell_type": "code",
   "execution_count": null,
   "metadata": {},
   "outputs": [],
   "source": [
    "class SNNF(nn.Module):\n",
    "    def __init__(self, input_dim, num_neuron):\n",
    "        super(SNNF, self).__init__()\n",
    "        self.fc1 = nn.Linear(input_dim, num_neuron)\n",
    "        self.fc2 = nn.Linear(num_neuron, input_dim)\n",
    "        \n",
    "    def Forward(self, x):\n",
    "        x = F.relu(self.fc1(x))\n",
    "        x = F.softmax(self.fc2(x))\n",
    "        return x"
   ]
  },
  {
   "cell_type": "code",
   "execution_count": null,
   "metadata": {},
   "outputs": [],
   "source": [
    "# class DNNF(nn.Module):\n",
    "#     def __init__(self, input_dim, num_neuron):\n",
    "#         super(DNNF, self).__init__()\n",
    "#         self.fc1 = nn.Linear(input_dim, num_neuron)\n",
    "#         self.fc2 = nn.Linear(num_neuron, input_dim)\n",
    "        \n",
    "#     def Forward(self, x):\n",
    "#         x = F.relu(self.fc1(x))\n",
    "#         x = F.relu(self.fc2(x))\n",
    "#         x = F.relu(self.fc3(x))\n",
    "#         x = F.relu(self.fc4(x))\n",
    "#         x = F.relu(self.fc5(x))\n",
    "#         x = F.relu(self.fc6(x))\n",
    "#         x = F.softmax(self.fc2(x))\n",
    "#         return x"
   ]
  },
  {
   "cell_type": "code",
   "execution_count": null,
   "metadata": {},
   "outputs": [],
   "source": [
    "loss_fun = torch.nn.L1Loss()\n",
    "optimizer = torch.optim.Adam()"
   ]
  },
  {
   "cell_type": "code",
   "execution_count": null,
   "metadata": {},
   "outputs": [],
   "source": [
    "# print('LSTM Training & Results:')\n",
    "# for t in range(num_epochs):\n",
    "#     y_train_pred = LSTM_Model(x_train)\n",
    "\n",
    "#     loss_LSTM = criterion(y_train_pred, y_train_lstm)\n",
    "#     print(\"LSTM Epoch \", t+1, \"/\", num_epochs, \"| MSE: \", loss_LSTM.item())\n",
    "#     hist_LSTM[t] = loss_LSTM.item()\n",
    "\n",
    "#     optimiser.zero_grad()\n",
    "#     loss_LSTM.backward()\n",
    "#     optimiser.step()\n",
    "\n",
    "# training_time = format(time.time()-start_time_LSTM, \"0.2f\")\n",
    "# print(\"\\nLSTM Training time:\", training_time)"
   ]
  }
 ],
 "metadata": {
  "kernelspec": {
   "display_name": "base",
   "language": "python",
   "name": "python3"
  },
  "language_info": {
   "codemirror_mode": {
    "name": "ipython",
    "version": 3
   },
   "file_extension": ".py",
   "mimetype": "text/x-python",
   "name": "python",
   "nbconvert_exporter": "python",
   "pygments_lexer": "ipython3",
   "version": "3.9.13 (main, Aug 25 2022, 18:29:29) \n[Clang 12.0.0 ]"
  },
  "orig_nbformat": 4,
  "vscode": {
   "interpreter": {
    "hash": "72a5606bcafec1593511b6d198bb0982fb8ea54acb1913d581966686ae52246b"
   }
  }
 },
 "nbformat": 4,
 "nbformat_minor": 2
}
