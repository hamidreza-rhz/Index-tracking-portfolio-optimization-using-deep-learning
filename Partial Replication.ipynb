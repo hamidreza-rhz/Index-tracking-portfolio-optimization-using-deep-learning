{
 "cells": [
  {
   "cell_type": "code",
   "execution_count": 1,
   "metadata": {},
   "outputs": [],
   "source": [
    "import torch\n",
    "import torch.nn as nn\n",
    "import pandas as pd\n",
    "import numpy as np\n",
    "from datetime import datetime\n",
    "from dateutil.relativedelta import relativedelta as rd\n",
    "import time\n",
    "import math\n",
    "from sklearn.metrics import mean_squared_error"
   ]
  },
  {
   "cell_type": "code",
   "execution_count": 2,
   "metadata": {},
   "outputs": [],
   "source": [
    "# stocks data csv read\n",
    "df = pd.read_csv('data.csv')\n",
    "df = df.set_index('Date')\n",
    "\n",
    "# s&p data csv read\n",
    "df_sp = pd.read_csv('sp500.csv')\n",
    "df_sp = df_sp.set_index('Date')\n",
    "\n",
    "# stocks data csv read for partial replication\n",
    "df_reduce = pd.read_csv('data.csv')\n",
    "df_reduce = df_reduce.set_index('Date')"
   ]
  },
  {
   "cell_type": "code",
   "execution_count": 3,
   "metadata": {},
   "outputs": [],
   "source": [
    "def date_slicer(df, start, duration, rebalancing_period=0):\n",
    "    start = str(datetime.strptime(start, '%Y-%m-%d').date() + rd(months=rebalancing_period))\n",
    "    end = str(datetime.strptime(start, '%Y-%m-%d').date() + rd(months=duration) - rd(days=1))\n",
    "    return df.loc[start:end]"
   ]
  },
  {
   "cell_type": "code",
   "execution_count": 4,
   "metadata": {},
   "outputs": [],
   "source": [
    "def data_process(df):\n",
    "    df = df.pct_change()\n",
    "    df = df.tail(-1)\n",
    "    df = df + 1\n",
    "    df = df.cumprod()\n",
    "    df = df - 1\n",
    "    df = df.iloc[-1,:]\n",
    "    df = df.to_numpy()\n",
    "    df = torch.from_numpy(df).type(torch.Tensor)\n",
    "    return df"
   ]
  },
  {
   "cell_type": "code",
   "execution_count": 5,
   "metadata": {},
   "outputs": [],
   "source": [
    "def daily_change(df):\n",
    "    df = df.pct_change()\n",
    "    df = df.tail(-1)\n",
    "    return df"
   ]
  },
  {
   "cell_type": "code",
   "execution_count": 6,
   "metadata": {},
   "outputs": [],
   "source": [
    "def daily_return(df):\n",
    "    df = df.pct_change()\n",
    "    df = df.tail(-1)\n",
    "    df = df + 1\n",
    "    return df"
   ]
  },
  {
   "cell_type": "code",
   "execution_count": 7,
   "metadata": {},
   "outputs": [],
   "source": [
    "def index_finder(df):\n",
    "    df = df.pct_change()\n",
    "    df = df.tail(-1)\n",
    "    df = df + 1\n",
    "    df = df.cumprod()\n",
    "    df = df - 1\n",
    "    df = df.iloc[-1,:]\n",
    "    return df"
   ]
  },
  {
   "cell_type": "code",
   "execution_count": 8,
   "metadata": {},
   "outputs": [],
   "source": [
    "stocks_index = index_finder(df).index"
   ]
  },
  {
   "cell_type": "code",
   "execution_count": 9,
   "metadata": {},
   "outputs": [],
   "source": [
    "# shallow nnf biuld\n",
    "class shallow_NNF(nn.Module):\n",
    "    def __init__(self, input_dim, hidden_size, num_classes):\n",
    "        super(shallow_NNF, self).__init__()\n",
    "        self.fc1 = nn.Linear(input_dim, hidden_size)\n",
    "        self.fc2 = nn.Linear(hidden_size, num_classes)\n",
    "        \n",
    "        self.relu = nn.ReLU()\n",
    "        self.softmax = nn.Softmax(dim=0)\n",
    "        \n",
    "    def reset_parameters(self):\n",
    "        self.fc1.reset_parameters()\n",
    "        self.fc2.reset_parameters()\n",
    "        \n",
    "    def forward(self, x):\n",
    "        out = self.relu(self.fc1(x))\n",
    "        out = self.softmax(self.fc2(out))\n",
    "        weights = out\n",
    "        cumulative_change = sum(out * x)\n",
    "        return cumulative_change, weights"
   ]
  },
  {
   "cell_type": "code",
   "execution_count": 10,
   "metadata": {},
   "outputs": [],
   "source": [
    "# shallow nnf biuld\n",
    "class shallow_NNF_partial(nn.Module):\n",
    "    def __init__(self, input_dim, hidden_size, num_classes):\n",
    "        super(shallow_NNF_partial, self).__init__()\n",
    "        self.fc1 = nn.Linear(input_dim, hidden_size)\n",
    "        self.fc2 = nn.Linear(hidden_size, num_classes)\n",
    "        \n",
    "        self.relu = nn.ReLU()\n",
    "        self.softmax = nn.Softmax(dim=0)\n",
    "        \n",
    "    def reset_parameters(self):\n",
    "        self.fc1.reset_parameters()\n",
    "        self.fc2.reset_parameters()\n",
    "        \n",
    "    def forward(self, x):\n",
    "        out = self.relu(self.fc1(x))\n",
    "        out = self.softmax(self.fc2(out))\n",
    "        weights = out\n",
    "        cumulative_change = sum(out * x)\n",
    "        return cumulative_change, weights"
   ]
  },
  {
   "cell_type": "code",
   "execution_count": 11,
   "metadata": {},
   "outputs": [],
   "source": [
    "# deep nnf build\n",
    "class deep_NNF(nn.Module):\n",
    "    def __init__(self, input_dim, hidden_size1, hidden_size2, hidden_size3,\n",
    "                 hidden_size4, hidden_size5, num_classes, dropout_p = 0.2):\n",
    "        super(deep_NNF, self).__init__()\n",
    "        self.fc1 = nn.Linear(input_dim, hidden_size1)\n",
    "        self.fc2 = nn.Linear(hidden_size1, hidden_size2)\n",
    "        self.fc3 = nn.Linear(hidden_size2, hidden_size3)\n",
    "        self.fc4 = nn.Linear(hidden_size3, hidden_size4)\n",
    "        self.fc5 = nn.Linear(hidden_size4, hidden_size5)\n",
    "        self.fc6 = nn.Linear(hidden_size5, num_classes)\n",
    "    \n",
    "        self.relu = nn.ReLU()\n",
    "        self.dropout = nn.Dropout(dropout_p)\n",
    "        self.softmax = nn.Softmax(dim=0)\n",
    "        \n",
    "    def reset_parameters(self):\n",
    "        self.fc1.reset_parameters()\n",
    "        self.fc2.reset_parameters()\n",
    "        self.fc3.reset_parameters()\n",
    "        self.fc4.reset_parameters()\n",
    "        self.fc5.reset_parameters()\n",
    "        self.fc6.reset_parameters()\n",
    "        \n",
    "    def forward(self, x):\n",
    "        out = self.relu(self.fc1(x))\n",
    "        out = self.dropout(out)\n",
    "        out = self.relu(self.fc2(out))\n",
    "        out = self.dropout(out)\n",
    "        out = self.relu(self.fc3(out))\n",
    "        out = self.dropout(out)\n",
    "        out = self.relu(self.fc4(out))\n",
    "        out = self.dropout(out)\n",
    "        out = self.relu(self.fc5(out))\n",
    "        out = self.softmax(self.fc6(out))\n",
    "        weights = out\n",
    "        cumulative_change = sum(out * x)\n",
    "        return cumulative_change, weights"
   ]
  },
  {
   "cell_type": "code",
   "execution_count": 12,
   "metadata": {},
   "outputs": [],
   "source": [
    "class deep_NNF_partial(nn.Module):\n",
    "    def __init__(self, input_dim, hidden_size1, hidden_size2, hidden_size3,\n",
    "                 hidden_size4, hidden_size5, num_classes, dropout_p = 0.2):\n",
    "        super(deep_NNF_partial, self).__init__()\n",
    "        self.fc1 = nn.Linear(input_dim, hidden_size1)\n",
    "        self.fc2 = nn.Linear(hidden_size1, hidden_size2)\n",
    "        self.fc3 = nn.Linear(hidden_size2, hidden_size3)\n",
    "        self.fc4 = nn.Linear(hidden_size3, hidden_size4)\n",
    "        self.fc5 = nn.Linear(hidden_size4, hidden_size5)\n",
    "        self.fc6 = nn.Linear(hidden_size5, num_classes)\n",
    "    \n",
    "        self.relu = nn.ReLU()\n",
    "        self.dropout = nn.Dropout(dropout_p)\n",
    "        self.softmax = nn.Softmax(dim=0)\n",
    "        \n",
    "    def reset_parameters(self):\n",
    "        self.fc1.reset_parameters()\n",
    "        self.fc2.reset_parameters()\n",
    "        self.fc3.reset_parameters()\n",
    "        self.fc4.reset_parameters()\n",
    "        self.fc5.reset_parameters()\n",
    "        self.fc6.reset_parameters()\n",
    "        \n",
    "    def forward(self, x):\n",
    "        out = self.relu(self.fc1(x))\n",
    "        out = self.dropout(out)\n",
    "        out = self.relu(self.fc2(out))\n",
    "        out = self.dropout(out)\n",
    "        out = self.relu(self.fc3(out))\n",
    "        out = self.dropout(out)\n",
    "        out = self.relu(self.fc4(out))\n",
    "        out = self.dropout(out)\n",
    "        out = self.relu(self.fc5(out))\n",
    "        out = self.softmax(self.fc6(out))\n",
    "        weights = out\n",
    "        cumulative_change = sum(out * x)\n",
    "        return cumulative_change, weights"
   ]
  },
  {
   "cell_type": "code",
   "execution_count": 13,
   "metadata": {},
   "outputs": [],
   "source": [
    "# 1/N model build\n",
    "class equal_w_model():\n",
    "    def __init__(self, df):\n",
    "        self.df = df\n",
    "        self.performance()\n",
    "        \n",
    "    def performance(self):\n",
    "        self.df = np.array(self.df)\n",
    "        weights = np.ones((len(self.df), 1)) * (1/len(self.df))\n",
    "        cumulative_change = sum(np.multiply(weights, self.df.reshape(-1,1)))\n",
    "        return cumulative_change, weights.reshape(-1)"
   ]
  },
  {
   "cell_type": "code",
   "execution_count": 14,
   "metadata": {},
   "outputs": [],
   "source": [
    "# rebalancing period = one or three months\n",
    "rbp = 3\n",
    "\n",
    "# number of companies in the partial portfolio\n",
    "partial_num = 50\n",
    "\n",
    "# epochs\n",
    "num_epochs = 50"
   ]
  },
  {
   "cell_type": "code",
   "execution_count": 15,
   "metadata": {},
   "outputs": [],
   "source": [
    "# shallow_nnf hyperparameters\n",
    "input_dim = 471\n",
    "hidden_size = 471\n",
    "num_classes = 471\n",
    "lr = 1e-3"
   ]
  },
  {
   "cell_type": "code",
   "execution_count": 16,
   "metadata": {},
   "outputs": [],
   "source": [
    "# shallow nnf tune\n",
    "shallow_NNF = shallow_NNF(input_dim=input_dim, hidden_size=hidden_size, num_classes=num_classes)\n",
    "shallow_NNF_loss_fun = torch.nn.MSELoss(reduction='mean')\n",
    "shallow_NNF_optimizer = torch.optim.Adam(shallow_NNF.parameters(), lr=lr)"
   ]
  },
  {
   "cell_type": "code",
   "execution_count": 17,
   "metadata": {},
   "outputs": [],
   "source": [
    "# shallow nnf partial tune\n",
    "shallow_NNF_partial = shallow_NNF_partial(input_dim=partial_num, hidden_size=hidden_size, num_classes=partial_num)\n",
    "shallow_NNF_partial_loss_fun = torch.nn.MSELoss(reduction='mean')\n",
    "shallow_NNF_partial_optimizer = torch.optim.Adam(shallow_NNF_partial.parameters(), lr=lr)"
   ]
  },
  {
   "cell_type": "code",
   "execution_count": 18,
   "metadata": {},
   "outputs": [],
   "source": [
    "# deep_nnf hyperparameters\n",
    "input_dim = 471\n",
    "hidden_size1 = 471\n",
    "hidden_size2 = 471\n",
    "hidden_size3 = 471\n",
    "hidden_size4 = 471\n",
    "hidden_size5 = 471\n",
    "num_classes = 471\n",
    "lr = 1e-3\n",
    "dropout_p = 0"
   ]
  },
  {
   "cell_type": "code",
   "execution_count": 19,
   "metadata": {},
   "outputs": [],
   "source": [
    "# deep nnf tune\n",
    "deep_NNF = deep_NNF(input_dim=input_dim, hidden_size1=hidden_size1, hidden_size2=hidden_size2, \n",
    "                    hidden_size3=hidden_size3, hidden_size4=hidden_size4, hidden_size5=hidden_size5,\n",
    "                    num_classes=num_classes)\n",
    "deep_NNF_loss_fun = torch.nn.MSELoss(reduction='mean')\n",
    "deep_NNF_optimizer = torch.optim.Adam(deep_NNF.parameters(), lr=lr)"
   ]
  },
  {
   "cell_type": "code",
   "execution_count": 20,
   "metadata": {},
   "outputs": [],
   "source": [
    "# deep nnf partial tune\n",
    "deep_NNF_partial = deep_NNF_partial(input_dim=partial_num, hidden_size1=hidden_size1, hidden_size2=hidden_size2, \n",
    "                    hidden_size3=hidden_size3, hidden_size4=hidden_size4, hidden_size5=hidden_size5,\n",
    "                    num_classes=partial_num)\n",
    "deep_NNF_partial_loss_fun = torch.nn.MSELoss(reduction='mean')\n",
    "deep_NNF_partial_optimizer = torch.optim.Adam(deep_NNF_partial.parameters(), lr=lr)"
   ]
  },
  {
   "cell_type": "code",
   "execution_count": 21,
   "metadata": {},
   "outputs": [],
   "source": [
    "# RMSE\n",
    "def RMSE(x, y, weights):\n",
    "    temp = 0\n",
    "    for i in range(len(x)):\n",
    "        temp += (sum(x.iloc[i] * weights) - y.iloc[i]) ** 2\n",
    "    return math.sqrt(temp/len(x))"
   ]
  },
  {
   "cell_type": "code",
   "execution_count": 22,
   "metadata": {},
   "outputs": [],
   "source": [
    "# MEAN\n",
    "def MEAN(x, weights):\n",
    "    temp = []\n",
    "    for i in range(len(x)):\n",
    "        temp.append(sum(x.iloc[i] * weights))\n",
    "    temp = np.array(temp)\n",
    "    return temp.mean()"
   ]
  },
  {
   "cell_type": "code",
   "execution_count": 23,
   "metadata": {},
   "outputs": [],
   "source": [
    "# Volatility\n",
    "def VOL(x, weights):\n",
    "    temp = []\n",
    "    for i in range(len(x)):\n",
    "        temp.append(sum(x.iloc[i] * weights))\n",
    "    temp = np.array(temp)\n",
    "    return temp.std()"
   ]
  },
  {
   "cell_type": "code",
   "execution_count": 24,
   "metadata": {},
   "outputs": [],
   "source": [
    "def portfolio_return(df, x_test, model, i, temp):   \n",
    "    '''\n",
    "    this function outputs the cumulative return of the portfolio test dataset of the given dataframe\n",
    "    ''' \n",
    "    x_return = date_slicer(df, '2018-01-01', 1, i)\n",
    "    x_return =  x_return.pct_change()\n",
    "    x_return =  x_return.tail(-1)\n",
    "    x_return =  x_return + 1\n",
    "    x_return =  x_return.cumprod()\n",
    "    \n",
    "    if model == equal_w_model:\n",
    "        weights = model(x_test).performance()[1]\n",
    "    else:\n",
    "        weights = np.array(model(x_test)[1].detach())\n",
    "    \n",
    "    for i in range(len(x_return)):\n",
    "        temp.append(sum(x_return.iloc[i] * weights))\n",
    "    temp = np.array(temp)\n",
    "    return temp"
   ]
  },
  {
   "cell_type": "code",
   "execution_count": 25,
   "metadata": {},
   "outputs": [],
   "source": [
    "def index_return(df_sp, i, temp):\n",
    "    '''\n",
    "    this function outputs the cumulative return of the benchmark index test dataset of the given dataframe\n",
    "    '''\n",
    "    y_return = date_slicer(df_sp, '2018-01-01', 1, i)\n",
    "    y_return = y_return.pct_change()\n",
    "    y_return = y_return.tail(-1)\n",
    "    y_return = y_return + 1\n",
    "    y_return = y_return.cumprod()\n",
    "    \n",
    "    for i in range(len(y_return)):\n",
    "        temp.append(sum(y_return.iloc[i]))\n",
    "    temp = np.array(temp)\n",
    "    return temp"
   ]
  },
  {
   "cell_type": "code",
   "execution_count": 26,
   "metadata": {},
   "outputs": [],
   "source": [
    "def valid_fun(x_valid, i, model):\n",
    "    x_change = daily_change(date_slicer(df_reduce, '2017-07-01', 6, i))\n",
    "    y_change = daily_change(date_slicer(df_sp, '2017-07-01', 6, i))\n",
    "    # x_return = daily_return(date_slicer(df, '2017-07-01', 6, i))\n",
    "    # y_return = daily_return(date_slicer(df_sp, '2017-07-01', 6, i))\n",
    "    \n",
    "    if model == equal_w_model:\n",
    "        weights = model(x_valid).performance()[1]\n",
    "    else:\n",
    "        weights = np.array(model(x_valid)[1].detach())\n",
    "    \n",
    "    valid_rmse = RMSE(x_change, y_change, weights)\n",
    "    # valid_mean = MEAN(x_return, weights)\n",
    "    # valid_vol  = VOL(x_return, weights)\n",
    "    \n",
    "    print(f'Validation RMSE: {valid_rmse}')\n",
    "    # print(f'Validation MEAN: {valid_mean}')\n",
    "    # print(f'Validation VOL: {valid_vol}')\n",
    "    \n",
    "    return valid_rmse"
   ]
  },
  {
   "cell_type": "code",
   "execution_count": 27,
   "metadata": {},
   "outputs": [],
   "source": [
    "def test_fun(x_test, i, model):\n",
    "    x_change = daily_change(date_slicer(df_reduce, '2018-01-01', 6, i))\n",
    "    y_change = daily_change(date_slicer(df_sp, '2018-01-01', 6, i))\n",
    "    x_return = daily_return(date_slicer(df_reduce, '2018-01-01', 6, i))\n",
    "    y_return = daily_return(date_slicer(df_sp, '2018-01-01', 6, i))\n",
    "    \n",
    "    if model == equal_w_model:\n",
    "        weights = model(x_test).performance()[1]\n",
    "    else:\n",
    "        weights = np.array(model(x_test)[1].detach())\n",
    "    \n",
    "    test_rmse = RMSE(x_change, y_change, weights)\n",
    "    test_mean = MEAN(x_return, weights)\n",
    "    test_vol  = VOL(x_return, weights)\n",
    "    test_dic = {'RMSE': test_rmse, 'MEAN': test_mean, 'VOL': test_vol}\n",
    "    \n",
    "    print(f'Test RMSE: {test_rmse}')\n",
    "    print(f'Test MEAN: {test_mean}')\n",
    "    print(f'Test VOL: {test_vol}')\n",
    "    \n",
    "    return test_dic"
   ]
  },
  {
   "attachments": {},
   "cell_type": "markdown",
   "metadata": {},
   "source": [
    "### **Deep NNF Training**"
   ]
  },
  {
   "cell_type": "code",
   "execution_count": 28,
   "metadata": {},
   "outputs": [],
   "source": [
    "# deep nnf training function\n",
    "def train_deep_nnf(x_train, y_train, i):\n",
    "    start_time_deep_nnf = time.time()\n",
    "    print(f'\\nDeep NNF Training & Results for model {(i/rbp)+1} (Full Reblication) :')\n",
    "    \n",
    "    for epoch in range(num_epochs):\n",
    "        y_train_pred = deep_NNF(x_train)[0]\n",
    "        loss_deep_nnf = deep_NNF_loss_fun(y_train_pred, y_train)\n",
    "        if epoch == 0 or epoch == num_epochs-1:\n",
    "            weights = np.array(deep_NNF(x_train)[1].detach())\n",
    "            print(f'Epoch {epoch+1} of {num_epochs} | MSE: {loss_deep_nnf.item()}')\n",
    "        deep_NNF_optimizer.zero_grad()\n",
    "        loss_deep_nnf.backward()\n",
    "        deep_NNF_optimizer.step()\n",
    "        \n",
    "    training_time = format(time.time()-start_time_deep_nnf, '0.2f')\n",
    "    print(f'Training time: {training_time}')\n",
    "    \n",
    "    return weights"
   ]
  },
  {
   "cell_type": "code",
   "execution_count": 29,
   "metadata": {},
   "outputs": [],
   "source": [
    "def train_deep_nnf_partial(x_train, y_train, i):    \n",
    "    start_time_deep_nnf = time.time()\n",
    "    print(f'\\nDeep NNF Training & Results for model {(i/rbp)+1} (Partial Reblication):')\n",
    "    \n",
    "    for epoch in range(num_epochs):\n",
    "        y_train_pred = deep_NNF_partial(x_train)[0]\n",
    "        loss_deep_nnf = deep_NNF_partial_loss_fun(y_train_pred, y_train)\n",
    "        if epoch == 0 or epoch == num_epochs-1:\n",
    "            print(f'Epoch {epoch+1} of {num_epochs} | MSE: {loss_deep_nnf.item()}')\n",
    "        deep_NNF_partial_optimizer.zero_grad()\n",
    "        loss_deep_nnf.backward()\n",
    "        deep_NNF_partial_optimizer.step()\n",
    "        \n",
    "    training_time = format(time.time()-start_time_deep_nnf, '0.2f')\n",
    "    print(f'Training time: {training_time}')"
   ]
  },
  {
   "cell_type": "code",
   "execution_count": 30,
   "metadata": {},
   "outputs": [],
   "source": [
    "def partial(x_train, x_valid, x_test, weights, stocks_index, num = partial_num):\n",
    "    df_partial = pd.DataFrame({'x_train': x_train, 'x_valid': x_valid, 'x_test': x_test,\n",
    "                               'weights': weights}, index = stocks_index)\n",
    "    df_partial = df_partial.sort_values(by = ['weights'])\n",
    "    out_index = df_partial.index[num:]\n",
    "    df_partial = df_partial.iloc[:num]\n",
    "    \n",
    "    x_train = df_partial['x_train'].to_numpy()\n",
    "    x_valid = df_partial['x_valid'].to_numpy()\n",
    "    x_test = df_partial['x_test'].to_numpy()\n",
    "    \n",
    "    x_train = torch.from_numpy(x_train).type(torch.Tensor)\n",
    "    x_valid = torch.from_numpy(x_valid).type(torch.Tensor)\n",
    "    x_test = torch.from_numpy(x_test).type(torch.Tensor)\n",
    "    \n",
    "    return x_train, x_valid, x_test, out_index"
   ]
  },
  {
   "cell_type": "code",
   "execution_count": 31,
   "metadata": {},
   "outputs": [
    {
     "name": "stdout",
     "output_type": "stream",
     "text": [
      "\n",
      "Deep NNF Training & Results for model 1.0 (Full Reblication) :\n",
      "Epoch 1 of 50 | MSE: 0.045507725328207016\n"
     ]
    },
    {
     "name": "stderr",
     "output_type": "stream",
     "text": [
      "/Users/hamidrezarahimzadeh/opt/anaconda3/lib/python3.9/site-packages/torch/nn/modules/loss.py:536: UserWarning: Using a target size (torch.Size([1])) that is different to the input size (torch.Size([])). This will likely lead to incorrect results due to broadcasting. Please ensure they have the same size.\n",
      "  return F.mse_loss(input, target, reduction=self.reduction)\n"
     ]
    },
    {
     "name": "stdout",
     "output_type": "stream",
     "text": [
      "Epoch 50 of 50 | MSE: 3.333966560603585e-07\n",
      "Training time: 0.72\n",
      "\n",
      "Deep NNF Training & Results for model 1.0 (Partial Reblication):\n",
      "Epoch 1 of 50 | MSE: 1.1887012720108032\n",
      "Epoch 50 of 50 | MSE: 0.20507322251796722\n",
      "Training time: 0.34\n",
      "Validation RMSE: 0.00880986952286119\n",
      "Test RMSE: 0.008904049104944212\n",
      "Test MEAN: 1.0009032756694787\n",
      "Test VOL: 0.013375699456506778\n",
      "\n",
      "Deep NNF Training & Results for model 2.0 (Full Reblication) :\n",
      "Epoch 1 of 50 | MSE: 0.0590691938996315\n",
      "Epoch 50 of 50 | MSE: 0.00020015232439618558\n",
      "Training time: 0.58\n",
      "\n",
      "Deep NNF Training & Results for model 2.0 (Partial Reblication):\n",
      "Epoch 1 of 50 | MSE: 1.743287444114685\n",
      "Epoch 50 of 50 | MSE: 0.14591211080551147\n",
      "Training time: 0.28\n",
      "Validation RMSE: 0.015559990869268544\n",
      "Test RMSE: 0.005826317291862339\n",
      "Test MEAN: 1.0019072816107095\n",
      "Test VOL: 0.007884473107119747\n",
      "\n",
      "Deep NNF Training & Results for model 3.0 (Full Reblication) :\n",
      "Epoch 1 of 50 | MSE: 0.039535779505968094\n",
      "Epoch 50 of 50 | MSE: 4.549993718683254e-06\n",
      "Training time: 0.61\n",
      "\n",
      "Deep NNF Training & Results for model 3.0 (Partial Reblication):\n",
      "Epoch 1 of 50 | MSE: 1.729164958000183\n",
      "Epoch 50 of 50 | MSE: 0.1625634878873825\n",
      "Training time: 0.30\n",
      "Validation RMSE: 0.01372352719779185\n",
      "Test RMSE: 0.01660355047372289\n",
      "Test MEAN: 0.9981621211697717\n",
      "Test VOL: 0.019231307640306106\n",
      "\n",
      "Deep NNF Training & Results for model 4.0 (Full Reblication) :\n",
      "Epoch 1 of 50 | MSE: 0.031219318509101868\n",
      "Epoch 50 of 50 | MSE: 1.5722802970685734e-07\n",
      "Training time: 0.59\n",
      "\n",
      "Deep NNF Training & Results for model 4.0 (Partial Reblication):\n",
      "Epoch 1 of 50 | MSE: 1.9539090394973755\n",
      "Epoch 50 of 50 | MSE: 0.11382435262203217\n",
      "Training time: 0.30\n",
      "Validation RMSE: 0.013147416101531213\n",
      "Test RMSE: 0.01083587555123594\n",
      "Test MEAN: 1.000046590115304\n",
      "Test VOL: 0.017631031662262323\n",
      "\n",
      "Deep NNF Training & Results for model 5.0 (Full Reblication) :\n",
      "Epoch 1 of 50 | MSE: 0.034941643476486206\n",
      "Epoch 50 of 50 | MSE: 4.9061760364566e-05\n",
      "Training time: 0.60\n",
      "\n",
      "Deep NNF Training & Results for model 5.0 (Partial Reblication):\n",
      "Epoch 1 of 50 | MSE: 2.4217381477355957\n",
      "Epoch 50 of 50 | MSE: 0.2185049206018448\n",
      "Training time: 0.30\n",
      "Validation RMSE: 0.01643655482899888\n",
      "Test RMSE: 0.010545638746002782\n",
      "Test MEAN: 1.0024559932315131\n",
      "Test VOL: 0.014499416339069074\n",
      "\n",
      "Deep NNF Training & Results for model 6.0 (Full Reblication) :\n",
      "Epoch 1 of 50 | MSE: 0.038511309772729874\n",
      "Epoch 50 of 50 | MSE: 1.9780962247750722e-05\n",
      "Training time: 0.61\n",
      "\n",
      "Deep NNF Training & Results for model 6.0 (Partial Reblication):\n",
      "Epoch 1 of 50 | MSE: 3.5008392333984375\n",
      "Epoch 50 of 50 | MSE: 0.22122988104820251\n",
      "Training time: 0.32\n",
      "Validation RMSE: 0.010314842252228312\n",
      "Test RMSE: 0.011037856338530065\n",
      "Test MEAN: 1.0017345737749803\n",
      "Test VOL: 0.013121256388938697\n",
      "\n",
      "Deep NNF Training & Results for model 7.0 (Full Reblication) :\n",
      "Epoch 1 of 50 | MSE: 0.02049308829009533\n",
      "Epoch 50 of 50 | MSE: 0.00022036336304154247\n",
      "Training time: 0.60\n",
      "\n",
      "Deep NNF Training & Results for model 7.0 (Partial Reblication):\n",
      "Epoch 1 of 50 | MSE: 0.13642920553684235\n",
      "Epoch 50 of 50 | MSE: 0.0003291353932581842\n",
      "Training time: 0.29\n",
      "Validation RMSE: 0.0027627779369684253\n",
      "Test RMSE: 0.002260654358835483\n",
      "Test MEAN: 1.0008473486027407\n",
      "Test VOL: 0.008237432986612458\n",
      "\n",
      "Deep NNF Training & Results for model 8.0 (Full Reblication) :\n",
      "Epoch 1 of 50 | MSE: 0.02853117138147354\n",
      "Epoch 50 of 50 | MSE: 1.0334787958754532e-07\n",
      "Training time: 0.60\n",
      "\n",
      "Deep NNF Training & Results for model 8.0 (Partial Reblication):\n",
      "Epoch 1 of 50 | MSE: 1.9478150606155396\n",
      "Epoch 50 of 50 | MSE: 0.16324438154697418\n",
      "Training time: 0.34\n",
      "Validation RMSE: 0.011037856338530102\n",
      "Test RMSE: 0.010694725091346722\n",
      "Test MEAN: 1.000982898231972\n",
      "Test VOL: 0.01204203825734716\n",
      "\n",
      "Min Valid RMSE is: 0.0027627779369684253 for model i = 7\n",
      "Selected Model Test Results are:\n",
      "RMSE = 0.002260654358835483\n",
      "MEAN = 1.0008473486027407\n",
      "VOL = 0.008237432986612458\n"
     ]
    }
   ],
   "source": [
    "# deep nnf\n",
    "deep_nnf_valid_rmse_list = []\n",
    "deep_nnf_test_results = []\n",
    "out_index_history = []\n",
    "deep_nnf_test_plot = []\n",
    "index_test_plot = []\n",
    "\n",
    "for i in range(int(24/rbp)):\n",
    "    df_reduce = df.copy()    \n",
    "    x_train = data_process(date_slicer(df, '2014-07-01', 36, i*rbp))\n",
    "    y_train = data_process(date_slicer(df_sp, '2014-07-01', 36, i*rbp))\n",
    "    x_valid = data_process(date_slicer(df, '2017-07-01', 6, i*rbp))\n",
    "    y_valid = data_process(date_slicer(df_sp, '2017-07-01', 6, i*rbp))\n",
    "    x_test = data_process(date_slicer(df, '2018-01-01', 1, i*rbp))\n",
    "    y_test = data_process(date_slicer(df_sp, '2018-01-01', 1, i*rbp))\n",
    "    weights = train_deep_nnf(x_train, y_train, i*rbp)\n",
    "    x_train, x_valid, x_test, out_index = partial(x_train, x_valid, x_test, weights, stocks_index, num = partial_num)\n",
    "    out_index_history.append(out_index)\n",
    "    df_reduce = df_reduce.drop(out_index, axis=1)\n",
    "    train_deep_nnf_partial(x_train, y_train, i*rbp)\n",
    "    deep_nnf_valid_rmse_list.append(valid_fun(x_valid, i*rbp, deep_NNF_partial))\n",
    "    deep_nnf_test_results.append(test_fun(x_test, i*rbp, deep_NNF_partial))\n",
    "    portfolio_return(df_reduce, x_test, deep_NNF_partial, i, deep_nnf_test_plot)\n",
    "    index_return(df_sp, i, index_test_plot)\n",
    "    deep_NNF.reset_parameters()\n",
    "    deep_NNF_partial.reset_parameters()\n",
    "\n",
    "print(f'\\nMin Valid RMSE is: {min(deep_nnf_valid_rmse_list)} for model i = {deep_nnf_valid_rmse_list.index(min(deep_nnf_valid_rmse_list))+1}')\n",
    "print('Selected Model Test Results are:')\n",
    "print('RMSE =', deep_nnf_test_results[deep_nnf_valid_rmse_list.index(min(deep_nnf_valid_rmse_list))]['RMSE'])\n",
    "print('MEAN =', deep_nnf_test_results[deep_nnf_valid_rmse_list.index(min(deep_nnf_valid_rmse_list))]['MEAN'])\n",
    "print('VOL =', deep_nnf_test_results[deep_nnf_valid_rmse_list.index(min(deep_nnf_valid_rmse_list))]['VOL'])\n",
    "\n",
    "deep_best_result_index = deep_nnf_valid_rmse_list.index(min(deep_nnf_valid_rmse_list))\n",
    "deep_nnf_test_plot = np.array(deep_nnf_test_plot).reshape(-1,1)\n",
    "index_test_plot = np.array(index_test_plot).reshape(-1,1)"
   ]
  },
  {
   "attachments": {},
   "cell_type": "markdown",
   "metadata": {},
   "source": [
    "### **Shallow NNF Training**"
   ]
  },
  {
   "cell_type": "code",
   "execution_count": 32,
   "metadata": {},
   "outputs": [],
   "source": [
    "# shallow nnf training function\n",
    "def train_shallow_nnf(x_train, y_train, i):\n",
    "    start_time_shallow_nnf = time.time()\n",
    "    print(f'\\nShallow NNF Training & Results for model {(i/rbp)+1}:')\n",
    "    \n",
    "    for epoch in range(num_epochs):\n",
    "        y_train_pred = shallow_NNF(x_train)[0]\n",
    "        loss_shallow_nnf = shallow_NNF_loss_fun(y_train_pred, y_train)\n",
    "        if epoch == 0 or epoch == num_epochs-1:\n",
    "            weights = np.array(deep_NNF(x_train)[1].detach())\n",
    "            print(f'Epoch {epoch+1} of {num_epochs} | MSE: {loss_shallow_nnf.item()}')\n",
    "        shallow_NNF_optimizer.zero_grad()\n",
    "        loss_shallow_nnf.backward()\n",
    "        shallow_NNF_optimizer.step()\n",
    "        \n",
    "    training_time = format(time.time()-start_time_shallow_nnf, '0.2f')\n",
    "    print(f'Training time: {training_time}')\n",
    "    \n",
    "    return weights"
   ]
  },
  {
   "cell_type": "code",
   "execution_count": 33,
   "metadata": {},
   "outputs": [],
   "source": [
    "def train_shallow_nnf_partial(x_train, y_train, i):    \n",
    "    start_time_shallow_nnf = time.time()\n",
    "    print(f'\\nDeep NNF Training & Results for model {(i/rbp)+1} (Partial Reblication):')\n",
    "    \n",
    "    for epoch in range(num_epochs):\n",
    "        y_train_pred = shallow_NNF_partial(x_train)[0]\n",
    "        loss_shallow_nnf = shallow_NNF_partial_loss_fun(y_train_pred, y_train)\n",
    "        if epoch == 0 or epoch == num_epochs-1:\n",
    "            print(f'Epoch {epoch+1} of {num_epochs} | MSE: {loss_shallow_nnf.item()}')\n",
    "        shallow_NNF_partial_optimizer.zero_grad()\n",
    "        loss_shallow_nnf.backward()\n",
    "        shallow_NNF_partial_optimizer.step()\n",
    "        \n",
    "    training_time = format(time.time()-start_time_shallow_nnf, '0.2f')\n",
    "    print(f'Training time: {training_time}')"
   ]
  },
  {
   "cell_type": "code",
   "execution_count": 34,
   "metadata": {},
   "outputs": [
    {
     "name": "stdout",
     "output_type": "stream",
     "text": [
      "\n",
      "Shallow NNF Training & Results for model 1.0:\n",
      "Epoch 1 of 50 | MSE: 0.04687090590596199\n",
      "Epoch 50 of 50 | MSE: 2.7458467229735106e-05\n",
      "Training time: 0.78\n",
      "\n",
      "Deep NNF Training & Results for model 1.0 (Partial Reblication):\n",
      "Epoch 1 of 50 | MSE: 0.017974859103560448\n",
      "Epoch 50 of 50 | MSE: 4.650539267458953e-06\n",
      "Training time: 0.12\n",
      "Validation RMSE: 0.0016470508373952134\n",
      "Test RMSE: 0.0023635022257199\n",
      "Test MEAN: 1.0001672817278031\n",
      "Test VOL: 0.009591324782225267\n",
      "\n",
      "Shallow NNF Training & Results for model 2.0:\n",
      "Epoch 1 of 50 | MSE: 0.059905681759119034\n",
      "Epoch 50 of 50 | MSE: 2.018068244069582e-06\n",
      "Training time: 0.58\n",
      "\n",
      "Deep NNF Training & Results for model 2.0 (Partial Reblication):\n",
      "Epoch 1 of 50 | MSE: 0.04611813649535179\n",
      "Epoch 50 of 50 | MSE: 5.329289342625998e-05\n",
      "Training time: 0.10\n",
      "Validation RMSE: 0.002314557845361928\n",
      "Test RMSE: 0.0024998526615492376\n",
      "Test MEAN: 1.0008347903033137\n",
      "Test VOL: 0.0056268695774979414\n",
      "\n",
      "Shallow NNF Training & Results for model 3.0:\n",
      "Epoch 1 of 50 | MSE: 0.03972407430410385\n",
      "Epoch 50 of 50 | MSE: 2.797177785396343e-06\n",
      "Training time: 0.42\n",
      "\n",
      "Deep NNF Training & Results for model 3.0 (Partial Reblication):\n",
      "Epoch 1 of 50 | MSE: 0.027396943420171738\n",
      "Epoch 50 of 50 | MSE: 3.747734081116505e-05\n",
      "Training time: 0.09\n",
      "Validation RMSE: 0.0023158081093312393\n",
      "Test RMSE: 0.0028273767392230083\n",
      "Test MEAN: 0.9991617096617255\n",
      "Test VOL: 0.010175895695134395\n",
      "\n",
      "Shallow NNF Training & Results for model 4.0:\n",
      "Epoch 1 of 50 | MSE: 0.026541654020547867\n",
      "Epoch 50 of 50 | MSE: 3.206324095117452e-09\n",
      "Training time: 0.44\n",
      "\n",
      "Deep NNF Training & Results for model 4.0 (Partial Reblication):\n",
      "Epoch 1 of 50 | MSE: 0.016479862853884697\n",
      "Epoch 50 of 50 | MSE: 2.921734267147258e-05\n",
      "Training time: 0.09\n",
      "Validation RMSE: 0.002339375766079369\n",
      "Test RMSE: 0.002912557013326981\n",
      "Test MEAN: 1.000194325421347\n",
      "Test VOL: 0.011229474833980792\n",
      "\n",
      "Shallow NNF Training & Results for model 5.0:\n",
      "Epoch 1 of 50 | MSE: 0.03221942111849785\n",
      "Epoch 50 of 50 | MSE: 2.254772653031978e-06\n",
      "Training time: 0.38\n",
      "\n",
      "Deep NNF Training & Results for model 5.0 (Partial Reblication):\n",
      "Epoch 1 of 50 | MSE: 0.027046700939536095\n",
      "Epoch 50 of 50 | MSE: 1.3930906789028086e-05\n",
      "Training time: 0.07\n",
      "Validation RMSE: 0.0034875421349796886\n",
      "Test RMSE: 0.0030310183883060175\n",
      "Test MEAN: 1.0018144514020237\n",
      "Test VOL: 0.006894899721754841\n",
      "\n",
      "Shallow NNF Training & Results for model 6.0:\n",
      "Epoch 1 of 50 | MSE: 0.03435791656374931\n",
      "Epoch 50 of 50 | MSE: 6.322252943391504e-09\n",
      "Training time: 0.34\n",
      "\n",
      "Deep NNF Training & Results for model 6.0 (Partial Reblication):\n",
      "Epoch 1 of 50 | MSE: 0.015490494668483734\n",
      "Epoch 50 of 50 | MSE: 4.526883458311204e-06\n",
      "Training time: 0.07\n",
      "Validation RMSE: 0.002795500748835121\n",
      "Test RMSE: 0.0019148095365431569\n",
      "Test MEAN: 1.000580081459511\n",
      "Test VOL: 0.008214407358132201\n",
      "\n",
      "Shallow NNF Training & Results for model 7.0:\n",
      "Epoch 1 of 50 | MSE: 0.021081846207380295\n",
      "Epoch 50 of 50 | MSE: 1.2527867454537045e-07\n",
      "Training time: 0.52\n",
      "\n",
      "Deep NNF Training & Results for model 7.0 (Partial Reblication):\n",
      "Epoch 1 of 50 | MSE: 0.04025903344154358\n",
      "Epoch 50 of 50 | MSE: 6.1294290389923844e-06\n",
      "Training time: 0.07\n",
      "Validation RMSE: 0.0022406268737927325\n",
      "Test RMSE: 0.0015796209742912886\n",
      "Test MEAN: 1.0006862259090645\n",
      "Test VOL: 0.0075800205755045605\n",
      "\n",
      "Shallow NNF Training & Results for model 8.0:\n",
      "Epoch 1 of 50 | MSE: 0.029153870418667793\n",
      "Epoch 50 of 50 | MSE: 1.089760075956292e-06\n",
      "Training time: 0.35\n",
      "\n",
      "Deep NNF Training & Results for model 8.0 (Partial Reblication):\n",
      "Epoch 1 of 50 | MSE: 0.012312446720898151\n",
      "Epoch 50 of 50 | MSE: 2.1432202629512176e-05\n",
      "Training time: 0.07\n",
      "Validation RMSE: 0.0019847454053182768\n",
      "Test RMSE: 0.0017154229322416214\n",
      "Test MEAN: 1.0013108404362836\n",
      "Test VOL: 0.005853490038002624\n",
      "Selected Model Test Results for model i = 7 are: \n",
      "RMSE = 0.0015796209742912886\n",
      "MEAN = 1.0006862259090645\n",
      "VOL = 0.0075800205755045605\n"
     ]
    }
   ],
   "source": [
    "#shallow nnf\n",
    "shallow_nnf_valid_rmse_list = []\n",
    "shallow_nnf_test_results = []\n",
    "shallow_nnf_test_plot = []\n",
    "\n",
    "for i in range(int(24/rbp)):\n",
    "    df_reduce = df.copy()\n",
    "    x_train = data_process(date_slicer(df, '2014-07-01', 36, i*rbp))\n",
    "    y_train = data_process(date_slicer(df_sp, '2014-07-01', 36, i*rbp))\n",
    "    x_valid = data_process(date_slicer(df, '2017-07-01', 6, i*rbp))\n",
    "    y_valid = data_process(date_slicer(df_sp, '2017-07-01', 6, i*rbp))\n",
    "    x_test = data_process(date_slicer(df, '2018-01-01', 1, i*rbp))\n",
    "    y_test = data_process(date_slicer(df_sp, '2018-01-01', 1, i*rbp))\n",
    "    weights = train_shallow_nnf(x_train, y_train, i*rbp)\n",
    "    x_train, x_valid, x_test, out_index = partial(x_train, x_valid, x_test, weights, stocks_index, num = partial_num)\n",
    "    df_reduce = df_reduce.drop(out_index, axis=1)\n",
    "    train_shallow_nnf_partial(x_train, y_train, i*rbp)\n",
    "    shallow_nnf_valid_rmse_list.append(valid_fun(x_valid, i*rbp, shallow_NNF_partial))\n",
    "    shallow_nnf_test_results.append(test_fun(x_test, i*rbp, shallow_NNF_partial))\n",
    "    portfolio_return(df_reduce, x_test, shallow_NNF_partial, i, shallow_nnf_test_plot)\n",
    "    shallow_NNF.reset_parameters()\n",
    "    shallow_NNF_partial.reset_parameters()\n",
    "\n",
    "# print(f'\\nMin Valid RMSE is: {min(valid_rmse_list)} for model i = {(deep_best_result_index)+1}')\n",
    "print('Selected Model Test Results for model i =', (deep_best_result_index)+1, 'are: ')\n",
    "print('RMSE =', shallow_nnf_test_results[(deep_best_result_index)]['RMSE'])\n",
    "print('MEAN =', shallow_nnf_test_results[(deep_best_result_index)]['MEAN'])\n",
    "print('VOL =', shallow_nnf_test_results[(deep_best_result_index)]['VOL'])\n",
    "\n",
    "shallow_nnf_test_plot = np.array(shallow_nnf_test_plot).reshape(-1,1)"
   ]
  },
  {
   "attachments": {},
   "cell_type": "markdown",
   "metadata": {},
   "source": [
    "### **1/N Model**"
   ]
  },
  {
   "cell_type": "code",
   "execution_count": 35,
   "metadata": {},
   "outputs": [
    {
     "name": "stdout",
     "output_type": "stream",
     "text": [
      "\n",
      "Equal Weights Model Results for model 1:\n",
      "Validation RMSE: 0.0027123447566295786\n",
      "Test RMSE: 0.0027191544554559795\n",
      "Test MEAN: 1.0004934017793834\n",
      "Test VOL: 0.01057125846421356\n",
      "\n",
      "Equal Weights Model Results for model 2:\n",
      "Validation RMSE: 0.004302775332561681\n",
      "Test RMSE: 0.003343166204465384\n",
      "Test MEAN: 1.0011064030205228\n",
      "Test VOL: 0.007398193463730773\n",
      "\n",
      "Equal Weights Model Results for model 3:\n",
      "Validation RMSE: 0.003562405225697514\n",
      "Test RMSE: 0.005051772297348073\n",
      "Test MEAN: 0.99900807776373\n",
      "Test VOL: 0.014068625601952076\n",
      "\n",
      "Equal Weights Model Results for model 4:\n",
      "Validation RMSE: 0.0037648124494344738\n",
      "Test RMSE: 0.005290701181254925\n",
      "Test MEAN: 1.0000673724211806\n",
      "Test VOL: 0.015782272029913787\n",
      "\n",
      "Equal Weights Model Results for model 5:\n",
      "Validation RMSE: 0.006962862643162685\n",
      "Test RMSE: 0.004708511078116441\n",
      "Test MEAN: 1.0020274242796818\n",
      "Test VOL: 0.011267867889746578\n",
      "\n",
      "Equal Weights Model Results for model 6:\n",
      "Validation RMSE: 0.007413530599609367\n",
      "Test RMSE: 0.004326993503164443\n",
      "Test MEAN: 1.0001860965124665\n",
      "Test VOL: 0.01147378557899537\n",
      "\n",
      "Equal Weights Model Results for model 7:\n",
      "Validation RMSE: 0.0026673301306582094\n",
      "Test RMSE: 0.0021763797888596404\n",
      "Test MEAN: 1.000867129762772\n",
      "Test VOL: 0.00833052764389767\n",
      "\n",
      "Equal Weights Model Results for model 8:\n",
      "Validation RMSE: 0.004025536140026735\n",
      "Test RMSE: 0.003361120996429581\n",
      "Test MEAN: 1.0020696051977522\n",
      "Test VOL: 0.007534437257813119\n",
      "Selected Model Test Results for model i = 7 are: \n",
      "RMSE = 0.0021763797888596404\n",
      "MEAN = 1.000867129762772\n",
      "VOL = 0.00833052764389767\n"
     ]
    }
   ],
   "source": [
    "equal_w_model_valid_rmse_list = []\n",
    "equal_w_model_test_results = []\n",
    "equal_w_model_test_plot = []\n",
    "\n",
    "for i in range(int(24/rbp)):\n",
    "    df_reduce = df.copy()\n",
    "    df_reduce = df_reduce.drop(out_index_history[i], axis=1)\n",
    "    print(f'\\nEqual Weights Model Results for model {i+1}:')\n",
    "    x_train = data_process(date_slicer(df_reduce, '2014-07-01', 36, i*rbp))\n",
    "    y_train = data_process(date_slicer(df_sp, '2014-07-01', 36, i*rbp))\n",
    "    x_valid = data_process(date_slicer(df_reduce, '2017-07-01', 6, i*rbp))\n",
    "    y_valid = data_process(date_slicer(df_sp, '2017-07-01', 6, i*rbp))\n",
    "    x_test = data_process(date_slicer(df_reduce, '2018-01-01', 1, i*rbp))\n",
    "    y_test = data_process(date_slicer(df_sp, '2018-01-01', 1, i*rbp))\n",
    "    \n",
    "    equal_w_model_valid_rmse_list.append(valid_fun(x_valid, i*rbp, equal_w_model))\n",
    "    equal_w_model_test_results.append(test_fun(x_test, i*rbp, equal_w_model))\n",
    "    portfolio_return(df_reduce, x_test, equal_w_model, i, equal_w_model_test_plot)\n",
    "    \n",
    "print('Selected Model Test Results for model i =', (deep_best_result_index)+1, 'are: ')\n",
    "print('RMSE =', equal_w_model_test_results[(deep_best_result_index)]['RMSE'])\n",
    "print('MEAN =', equal_w_model_test_results[(deep_best_result_index)]['MEAN'])\n",
    "print('VOL =', equal_w_model_test_results[(deep_best_result_index)]['VOL'])\n",
    "\n",
    "equal_w_model_test_plot = np.array(equal_w_model_test_plot).reshape(-1,1)"
   ]
  },
  {
   "cell_type": "code",
   "execution_count": 36,
   "metadata": {},
   "outputs": [
    {
     "name": "stdout",
     "output_type": "stream",
     "text": [
      "Models test results with rebalancing period of 3 month(s) are: \n"
     ]
    },
    {
     "data": {
      "text/html": [
       "<div>\n",
       "<style scoped>\n",
       "    .dataframe tbody tr th:only-of-type {\n",
       "        vertical-align: middle;\n",
       "    }\n",
       "\n",
       "    .dataframe tbody tr th {\n",
       "        vertical-align: top;\n",
       "    }\n",
       "\n",
       "    .dataframe thead th {\n",
       "        text-align: right;\n",
       "    }\n",
       "</style>\n",
       "<table border=\"1\" class=\"dataframe\">\n",
       "  <thead>\n",
       "    <tr style=\"text-align: right;\">\n",
       "      <th></th>\n",
       "      <th>Deep NNF</th>\n",
       "      <th>Shallow NNF</th>\n",
       "      <th>1/N Model</th>\n",
       "      <th>S&amp;P 500</th>\n",
       "    </tr>\n",
       "  </thead>\n",
       "  <tbody>\n",
       "    <tr>\n",
       "      <th>RMSE</th>\n",
       "      <td>0.002261</td>\n",
       "      <td>0.001580</td>\n",
       "      <td>0.002176</td>\n",
       "      <td>-</td>\n",
       "    </tr>\n",
       "    <tr>\n",
       "      <th>MEAN</th>\n",
       "      <td>1.000847</td>\n",
       "      <td>1.000686</td>\n",
       "      <td>1.000867</td>\n",
       "      <td>0.99939</td>\n",
       "    </tr>\n",
       "    <tr>\n",
       "      <th>VOL</th>\n",
       "      <td>0.008237</td>\n",
       "      <td>0.007580</td>\n",
       "      <td>0.008331</td>\n",
       "      <td>0.011183</td>\n",
       "    </tr>\n",
       "  </tbody>\n",
       "</table>\n",
       "</div>"
      ],
      "text/plain": [
       "      Deep NNF  Shallow NNF  1/N Model   S&P 500\n",
       "RMSE  0.002261     0.001580   0.002176         -\n",
       "MEAN  1.000847     1.000686   1.000867   0.99939\n",
       "VOL   0.008237     0.007580   0.008331  0.011183"
      ]
     },
     "execution_count": 36,
     "metadata": {},
     "output_type": "execute_result"
    }
   ],
   "source": [
    "# print test results\n",
    "print(f'Models test results with rebalancing period of {rbp} month(s) are: ')\n",
    "deep_temp = pd.DataFrame(deep_nnf_test_results)\n",
    "deep_temp = deep_temp.iloc[deep_best_result_index]\n",
    "shallow_temp = pd.DataFrame(shallow_nnf_test_results)\n",
    "shallow_temp = shallow_temp.iloc[deep_best_result_index]\n",
    "equal_w_temp = pd.DataFrame(equal_w_model_test_results)\n",
    "equal_w_temp = equal_w_temp.iloc[deep_best_result_index]\n",
    "\n",
    "sp_temp_rmse = '-'\n",
    "sp_temp_mean = daily_return(date_slicer(df_sp, '2018-01-01', 6, deep_best_result_index)).mean()[0]\n",
    "sp_temp_std = daily_return(date_slicer(df_sp, '2018-01-01', 6, deep_best_result_index)).std()[0]\n",
    "sp_temp = pd.DataFrame([sp_temp_rmse, sp_temp_mean, sp_temp_std], index=deep_temp.index)\n",
    "\n",
    "final_result = pd.concat([deep_temp, shallow_temp, equal_w_temp, sp_temp], axis=1, join='inner')\n",
    "final_result.columns = ['Deep NNF', 'Shallow NNF', '1/N Model', 'S&P 500']\n",
    "final_result"
   ]
  },
  {
   "cell_type": "code",
   "execution_count": 37,
   "metadata": {},
   "outputs": [
    {
     "name": "stdout",
     "output_type": "stream",
     "text": [
      "Average of test RMSE for each model: \n",
      "Deep NNF: 0.009588583369560054\n",
      "Shallow NNF: 0.0023555200589001515\n",
      "Equal weight model: 0.003872224938136808\n"
     ]
    }
   ],
   "source": [
    "'''\n",
    "to further showcase the results, here we compute the average RMSE of each model in test dataset\n",
    "'''\n",
    "print(f'Average of test RMSE for each model: ')\n",
    "\n",
    "deep_nnf_test_rmse_mean = 0 # temp variable for storing each tmse for deep nnf model\n",
    "for i in range(int(24/rbp)):\n",
    "    deep_nnf_test_rmse_mean += deep_nnf_test_results[i]['RMSE']\n",
    "print(f'Deep NNF: {deep_nnf_test_rmse_mean/int(24/rbp)}')\n",
    "\n",
    "shallow_nnf_test_rmse_mean = 0 # temp variable for storing each tmse for shallow nnf model\n",
    "for i in range(int(24/rbp)):\n",
    "    shallow_nnf_test_rmse_mean += shallow_nnf_test_results[i]['RMSE']\n",
    "print(f'Shallow NNF: {shallow_nnf_test_rmse_mean/int(24/rbp)}')\n",
    "\n",
    "equal_w_model_test_rmse_mean = 0 # temp variable for storing each tmse for 1/n model model\n",
    "for i in range(int(24/rbp)):\n",
    "    equal_w_model_test_rmse_mean += equal_w_model_test_results[i]['RMSE']\n",
    "print(f'Equal weight model: {equal_w_model_test_rmse_mean/int(24/rbp)}')"
   ]
  },
  {
   "cell_type": "code",
   "execution_count": 38,
   "metadata": {},
   "outputs": [],
   "source": [
    "# concatinating the test dataset return results of each model + index return for plot\n",
    "plot_test = pd.concat([pd.DataFrame(deep_nnf_test_plot), pd.DataFrame(shallow_nnf_test_plot),\n",
    "                       pd.DataFrame(equal_w_model_test_plot), pd.DataFrame(index_test_plot)], axis=1, join='inner')\n",
    "plot_test.columns = ['Deep NNF', 'Shallow NNF', '1/N Model', 'S&P 500']"
   ]
  },
  {
   "cell_type": "code",
   "execution_count": 39,
   "metadata": {},
   "outputs": [
    {
     "data": {
      "text/html": [
       "        <script type=\"text/javascript\">\n",
       "        window.PlotlyConfig = {MathJaxConfig: 'local'};\n",
       "        if (window.MathJax && window.MathJax.Hub && window.MathJax.Hub.Config) {window.MathJax.Hub.Config({SVG: {font: \"STIX-Web\"}});}\n",
       "        if (typeof require !== 'undefined') {\n",
       "        require.undef(\"plotly\");\n",
       "        requirejs.config({\n",
       "            paths: {\n",
       "                'plotly': ['https://cdn.plot.ly/plotly-2.12.1.min']\n",
       "            }\n",
       "        });\n",
       "        require(['plotly'], function(Plotly) {\n",
       "            window._Plotly = Plotly;\n",
       "        });\n",
       "        }\n",
       "        </script>\n",
       "        "
      ]
     },
     "metadata": {},
     "output_type": "display_data"
    },
    {
     "data": {
      "text/html": [
       "        <script type=\"text/javascript\">\n",
       "        window.PlotlyConfig = {MathJaxConfig: 'local'};\n",
       "        if (window.MathJax && window.MathJax.Hub && window.MathJax.Hub.Config) {window.MathJax.Hub.Config({SVG: {font: \"STIX-Web\"}});}\n",
       "        if (typeof require !== 'undefined') {\n",
       "        require.undef(\"plotly\");\n",
       "        requirejs.config({\n",
       "            paths: {\n",
       "                'plotly': ['https://cdn.plot.ly/plotly-2.12.1.min']\n",
       "            }\n",
       "        });\n",
       "        require(['plotly'], function(Plotly) {\n",
       "            window._Plotly = Plotly;\n",
       "        });\n",
       "        }\n",
       "        </script>\n",
       "        "
      ]
     },
     "metadata": {},
     "output_type": "display_data"
    },
    {
     "data": {
      "application/vnd.plotly.v1+json": {
       "config": {
        "linkText": "Export to plot.ly",
        "plotlyServerURL": "https://plot.ly",
        "showLink": true
       },
       "data": [
        {
         "line": {
          "color": "rgba(255, 153, 51, 1.0)",
          "dash": "solid",
          "shape": "linear",
          "width": 1.3
         },
         "mode": "lines",
         "name": "Deep NNF",
         "text": "",
         "type": "scatter",
         "x": [
          0,
          1,
          2,
          3,
          4,
          5,
          6,
          7,
          8,
          9,
          10,
          11,
          12,
          13,
          14,
          15,
          16,
          17,
          18,
          19,
          20,
          21,
          22,
          23,
          24,
          25,
          26,
          27,
          28,
          29,
          30,
          31,
          32,
          33,
          34,
          35,
          36,
          37,
          38,
          39,
          40,
          41,
          42,
          43,
          44,
          45,
          46,
          47,
          48,
          49,
          50,
          51,
          52,
          53,
          54,
          55,
          56,
          57,
          58,
          59,
          60,
          61,
          62,
          63,
          64,
          65,
          66,
          67,
          68,
          69,
          70,
          71,
          72,
          73,
          74,
          75,
          76,
          77,
          78,
          79,
          80,
          81,
          82,
          83,
          84,
          85,
          86,
          87,
          88,
          89,
          90,
          91,
          92,
          93,
          94,
          95,
          96,
          97,
          98,
          99,
          100,
          101,
          102,
          103,
          104,
          105,
          106,
          107,
          108,
          109,
          110,
          111,
          112,
          113,
          114,
          115,
          116,
          117,
          118,
          119,
          120,
          121,
          122,
          123,
          124,
          125,
          126,
          127,
          128,
          129,
          130,
          131,
          132,
          133,
          134,
          135,
          136,
          137,
          138,
          139,
          140,
          141,
          142,
          143,
          144,
          145,
          146,
          147,
          148,
          149,
          150,
          151,
          152,
          153,
          154,
          155,
          156,
          157,
          158,
          159,
          160
         ],
         "y": [
          1.0097524147262955,
          1.0136796491605593,
          1.031215280199608,
          1.0174211271729399,
          1.020260222958715,
          1.0132234692478344,
          1.0198920576343853,
          1.033849946160573,
          1.049039974349443,
          1.0720698015649541,
          1.0896338128294185,
          1.0906546888435713,
          1.0912654463776454,
          1.0983513267216525,
          1.0944965598206717,
          1.0946150898471938,
          1.1078260244945257,
          1.1012101012757305,
          1.0596236628942166,
          1.0633904572684891,
          0.975977552560721,
          0.9368567601667226,
          0.961649672907344,
          0.9622291856223748,
          0.925121664506019,
          0.9416450476404288,
          0.956369355421666,
          0.9573801650859705,
          0.9618340097323748,
          0.9553333254306408,
          0.9560627787956202,
          0.9547087829155574,
          0.9514318479340241,
          0.9478725949140457,
          0.9609662402370748,
          0.9752183511128145,
          0.970019500093506,
          0.9615264785157318,
          1.0034384663589333,
          1.0088897024415513,
          1.0246546974441295,
          1.0222972116505324,
          1.0166982768026802,
          1.0273562544551003,
          1.0300080711840516,
          1.0329547008826332,
          1.0153235415793276,
          1.009036900004667,
          1.0176318826776931,
          1.0043714842077434,
          1.002947400626273,
          1.0153724031781648,
          0.9906673106072718,
          1.0101640450054106,
          1.0278939855854037,
          1.0089364968864356,
          0.9910596033059956,
          1.0181205988362283,
          1.021291109009328,
          1.0220933359148543,
          1.03327672275494,
          1.003987730805448,
          1.008118900346272,
          1.0223805286364887,
          1.014522494769556,
          1.02690069417,
          1.023033168800142,
          1.0358175935503182,
          1.050321365011467,
          1.0548479331982672,
          1.0485952684347355,
          1.05551187446228,
          1.0454064917212849,
          1.005226572101725,
          1.005764153497691,
          0.9951366920170488,
          0.9815778782547528,
          0.9707821334628924,
          0.9588291097387074,
          0.9818206034708175,
          0.9890389021957563,
          0.99812860052725,
          1.0121641984987346,
          1.0294078953584422,
          1.0585483895584515,
          1.058681988145886,
          1.0534687893393069,
          1.0398342929716,
          1.0402352924499918,
          1.0585483895584538,
          1.0799358849759841,
          1.0860847834521683,
          1.0776634858910406,
          1.0838123843672254,
          1.0900949834225604,
          1.0822082839272593,
          1.0791338857518613,
          1.0907632820675395,
          1.0970458811228714,
          0.9996487714953618,
          0.9922735253083262,
          1.0005854728894006,
          1.0028097359888615,
          1.0159212541768725,
          1.0191992947179478,
          1.0202527040869394,
          1.0227113036194624,
          1.0319596764496282,
          1.0442518455567629,
          1.0410910651598944,
          1.0214235578174087,
          1.018496929756971,
          1.018730990045086,
          1.0046827705836758,
          0.991570884202402,
          0.9834933651027056,
          0.9758838744102836,
          0.9930931505341488,
          0.997307524276,
          0.9961248700843869,
          1.006024796334729,
          1.0142097793932934,
          1.024191261917727,
          1.0270769759520448,
          1.0186631902448025,
          1.0274924667057808,
          1.0285220797510797,
          1.0217879572331097,
          1.0274942516252654,
          1.0315750949696416,
          1.028186259327806,
          1.0250178646373242,
          1.0227595588336698,
          1.0194301105544663,
          1.0247974734542353,
          1.0188747790123491,
          1.0132501314901317,
          1.0037007313587845,
          1.009623901566586,
          1.062892279876091,
          1.06521734757958,
          1.0762614195599274,
          1.07521524857821,
          1.083817615988805,
          1.0741688950519583,
          1.0660311579103123,
          1.060916209570228,
          1.0621948325948207,
          1.056149619841521,
          1.064170902900684,
          1.0633575489312885,
          1.0713789232627189,
          1.0705648392348077,
          1.04243212166593,
          1.04243212166593,
          1.0416181289102862,
          1.0390606090442989,
          1.0410368618946966,
          1.0442921941310237,
          1.0440595595436135,
          1.0532431938501752
         ]
        },
        {
         "line": {
          "color": "rgba(55, 128, 191, 1.0)",
          "dash": "solid",
          "shape": "linear",
          "width": 1.3
         },
         "mode": "lines",
         "name": "Shallow NNF",
         "text": "",
         "type": "scatter",
         "x": [
          0,
          1,
          2,
          3,
          4,
          5,
          6,
          7,
          8,
          9,
          10,
          11,
          12,
          13,
          14,
          15,
          16,
          17,
          18,
          19,
          20,
          21,
          22,
          23,
          24,
          25,
          26,
          27,
          28,
          29,
          30,
          31,
          32,
          33,
          34,
          35,
          36,
          37,
          38,
          39,
          40,
          41,
          42,
          43,
          44,
          45,
          46,
          47,
          48,
          49,
          50,
          51,
          52,
          53,
          54,
          55,
          56,
          57,
          58,
          59,
          60,
          61,
          62,
          63,
          64,
          65,
          66,
          67,
          68,
          69,
          70,
          71,
          72,
          73,
          74,
          75,
          76,
          77,
          78,
          79,
          80,
          81,
          82,
          83,
          84,
          85,
          86,
          87,
          88,
          89,
          90,
          91,
          92,
          93,
          94,
          95,
          96,
          97,
          98,
          99,
          100,
          101,
          102,
          103,
          104,
          105,
          106,
          107,
          108,
          109,
          110,
          111,
          112,
          113,
          114,
          115,
          116,
          117,
          118,
          119,
          120,
          121,
          122,
          123,
          124,
          125,
          126,
          127,
          128,
          129,
          130,
          131,
          132,
          133,
          134,
          135,
          136,
          137,
          138,
          139,
          140,
          141,
          142,
          143,
          144,
          145,
          146,
          147,
          148,
          149,
          150,
          151,
          152,
          153,
          154,
          155,
          156,
          157,
          158,
          159,
          160
         ],
         "y": [
          1.0049293298463837,
          1.0096770691381143,
          1.0167271415004455,
          1.0203801176369418,
          1.0228805237230851,
          1.0208354288456192,
          1.0291681210917427,
          1.0355408240635942,
          1.030414916893695,
          1.0396458907947386,
          1.037066220317057,
          1.043924179116393,
          1.0477692047102933,
          1.054068212679827,
          1.0535693080435504,
          1.0521111700144332,
          1.0608285090080853,
          1.0535441122467322,
          1.0443726938992177,
          1.045550282720146,
          0.9789286671978368,
          0.9423024316693713,
          0.9489093334912104,
          0.9441329357815584,
          0.910617688126319,
          0.9230240824013132,
          0.9335804120942595,
          0.9356868704244345,
          0.9501827436785528,
          0.9620446229273066,
          0.9647543853872673,
          0.9558694349363906,
          0.9506294919670083,
          0.9531887223003433,
          0.9658626310919162,
          0.9736141367169371,
          0.9612679792510564,
          0.9511987693972563,
          1.0084431787895287,
          1.021662561405013,
          1.025918476918903,
          1.0257272741919576,
          1.0287458204020732,
          1.0465672971059654,
          1.046883558530725,
          1.0409173578529027,
          1.0356572303021596,
          1.0344677742316903,
          1.0390629919693237,
          1.0276289032821166,
          1.0267735184485378,
          1.0255677987703666,
          1.0034828827471283,
          0.9832954618764949,
          1.0056678626382873,
          0.9945168536368713,
          0.9951710447462281,
          1.006352494611986,
          1.0096099226911668,
          1.0197838457473538,
          1.024686951289885,
          1.003528481339146,
          1.005488352660359,
          1.0178180938235388,
          1.0147231339658698,
          1.0217893778922496,
          1.01901501763195,
          1.0283271347952314,
          1.0373606027359157,
          1.0377945467674672,
          1.0361897885012248,
          1.029424084970982,
          1.0323911778529988,
          1.0230384678736628,
          1.025497761291505,
          1.0329194644271718,
          1.0347649668565335,
          1.0271170778126046,
          0.9887379241132971,
          0.9861368029956888,
          0.998320694261896,
          1.000685025408057,
          0.9992549813682654,
          1.00759121051021,
          1.0190672474160452,
          1.0189842136864835,
          1.0164481456280505,
          1.0096355780547925,
          1.013639421379057,
          1.0132213449258096,
          1.0104457014148018,
          1.0158932589524925,
          1.0128197733867421,
          1.0145785015587443,
          1.016506217973197,
          1.01606921133323,
          1.009147377550886,
          1.020725537822223,
          1.0132069534875021,
          1.0047021391319935,
          1.0044549944989218,
          1.0121829229332657,
          1.0131031470057081,
          1.016865948950044,
          1.0170074164265845,
          1.0209716702534952,
          1.0155251529389857,
          1.0179308770472135,
          1.018931600674542,
          1.0176093586674135,
          1.0146053029356887,
          1.013698238549567,
          1.007688296327077,
          1.010961456394619,
          1.0009826528818588,
          1.0018597162901581,
          0.992235272787526,
          0.9956296400831888,
          0.9986818246570194,
          0.9968828703664829,
          1.0051459413675516,
          1.0132536858729047,
          1.016459888992551,
          1.0213712377128203,
          1.0156077405648563,
          1.0230234615571216,
          1.0242371796824326,
          1.0225372472819219,
          1.0265655171673376,
          1.0288239568516082,
          1.0294467914155865,
          1.025030403727203,
          1.024383723284817,
          1.0210719135120312,
          1.0281144213390438,
          1.0249035022947812,
          1.019041399195727,
          1.0094792209629737,
          1.0193500748517865,
          1.0057408917751318,
          1.0112523319965707,
          1.015460401709434,
          1.0176347584116248,
          1.0150301417840724,
          1.013283195823927,
          1.0028817046830036,
          1.0001122001597411,
          1.006264991154452,
          1.0020594991501683,
          1.0109797131774536,
          1.0136771734572434,
          1.0180778656144116,
          1.021164254690924,
          1.017036285979333,
          1.0143225647771266,
          1.0186288758186541,
          1.0238096626163309,
          1.0237293431283532,
          1.0281206535229577,
          1.0241132533619821,
          1.0243334065015637
         ]
        },
        {
         "line": {
          "color": "rgba(50, 171, 96, 1.0)",
          "dash": "solid",
          "shape": "linear",
          "width": 1.3
         },
         "mode": "lines",
         "name": "1/N Model",
         "text": "",
         "type": "scatter",
         "x": [
          0,
          1,
          2,
          3,
          4,
          5,
          6,
          7,
          8,
          9,
          10,
          11,
          12,
          13,
          14,
          15,
          16,
          17,
          18,
          19,
          20,
          21,
          22,
          23,
          24,
          25,
          26,
          27,
          28,
          29,
          30,
          31,
          32,
          33,
          34,
          35,
          36,
          37,
          38,
          39,
          40,
          41,
          42,
          43,
          44,
          45,
          46,
          47,
          48,
          49,
          50,
          51,
          52,
          53,
          54,
          55,
          56,
          57,
          58,
          59,
          60,
          61,
          62,
          63,
          64,
          65,
          66,
          67,
          68,
          69,
          70,
          71,
          72,
          73,
          74,
          75,
          76,
          77,
          78,
          79,
          80,
          81,
          82,
          83,
          84,
          85,
          86,
          87,
          88,
          89,
          90,
          91,
          92,
          93,
          94,
          95,
          96,
          97,
          98,
          99,
          100,
          101,
          102,
          103,
          104,
          105,
          106,
          107,
          108,
          109,
          110,
          111,
          112,
          113,
          114,
          115,
          116,
          117,
          118,
          119,
          120,
          121,
          122,
          123,
          124,
          125,
          126,
          127,
          128,
          129,
          130,
          131,
          132,
          133,
          134,
          135,
          136,
          137,
          138,
          139,
          140,
          141,
          142,
          143,
          144,
          145,
          146,
          147,
          148,
          149,
          150,
          151,
          152,
          153,
          154,
          155,
          156,
          157,
          158,
          159,
          160
         ],
         "y": [
          1.0101748043331409,
          1.0133924280288806,
          1.0234092937812873,
          1.027919190237807,
          1.0296991907636492,
          1.0237150353031566,
          1.0291941022052027,
          1.0367190596891427,
          1.0330759938006975,
          1.0478775914135972,
          1.048233566465215,
          1.0552270304091549,
          1.058972157099582,
          1.060133133348062,
          1.0534098205627418,
          1.0517699706328174,
          1.062424759323361,
          1.0553933809888374,
          1.0479652460408795,
          1.0556370143152665,
          0.9817954282890538,
          0.9460069607427578,
          0.9576544516910113,
          0.9512550807299485,
          0.9143891920796944,
          0.9319407460151925,
          0.9474867354239268,
          0.9508895081514427,
          0.9706836347758645,
          0.9842698360204991,
          0.9830677357153274,
          0.9839044763997421,
          0.9788179671833913,
          0.9747025122965065,
          0.9917350584683706,
          0.9998978036770595,
          0.991063546453204,
          0.9824393978893285,
          1.0109404383672207,
          1.022911741333851,
          1.0301108050810228,
          1.0345710093705451,
          1.0390106561005341,
          1.0595904400210976,
          1.0584371391073257,
          1.0519430551896014,
          1.0472819787353453,
          1.046655850047086,
          1.0465680788842837,
          1.0333194351121544,
          1.040668023633225,
          1.0419967204825642,
          1.0109168063126717,
          0.9921828508071194,
          1.0221665905423811,
          0.993912360340652,
          0.9828279603730622,
          0.9993915535545828,
          1.0101019366598711,
          1.022346739494096,
          1.0276145157274261,
          1.0017045587753275,
          1.0064632905086621,
          1.0294419321749424,
          1.0224824878531222,
          1.0343539604250425,
          1.0242399943623415,
          1.0315972586752251,
          1.050367086994726,
          1.0521904624170038,
          1.0398166128667157,
          1.0337031165408346,
          1.030137716935444,
          1.012742634576368,
          1.0137146221126014,
          1.0305436165062607,
          1.0306029259399498,
          1.024173422068656,
          0.9945460998868304,
          1.0008984401238532,
          1.0165660617164805,
          1.023550424660574,
          1.0258521770836424,
          1.0402312084574499,
          1.0530082182695266,
          1.0527856827440987,
          1.0518011869875445,
          1.0442112281759877,
          1.047725179750574,
          1.0457347792679677,
          1.0430204474668856,
          1.051399184554003,
          1.0473042453859,
          1.0583439723853156,
          1.0600517146092392,
          1.0599046007264863,
          1.0556242780043608,
          1.0664764620033993,
          1.0592540192753024,
          1.0082346257349015,
          1.0157187940703492,
          1.025447208656829,
          1.0161468685480939,
          1.0220629051101726,
          1.024790558337544,
          1.0314374573051837,
          1.0320221689155142,
          1.0358520465517027,
          1.0337550251810905,
          1.0366752250452467,
          1.0273256565724196,
          1.0317245930058454,
          1.020292618077912,
          1.0146721222129207,
          0.9905992398087637,
          0.9958794164307194,
          0.9793963514854575,
          0.9908928435919642,
          0.990845541326473,
          0.9956221881089472,
          1.0055226636788084,
          1.0140828434205327,
          1.0236149699457333,
          1.0265989269842453,
          1.0188301104140227,
          1.027576999367756,
          1.0283631314775905,
          1.0222143716567176,
          1.0275570239443392,
          1.0315309466579774,
          1.0280211913360522,
          1.0250807568122409,
          1.0229895465390522,
          1.019436803542509,
          1.0247421877941074,
          1.019463842503291,
          1.0138628574054078,
          1.0036958807145457,
          1.009576105368671,
          1.013757533330992,
          1.0134311091680883,
          1.02089003524517,
          1.026715128201307,
          1.026433120580349,
          1.0269707011284144,
          1.0215141192949548,
          1.0164468962847142,
          1.024477010929288,
          1.0121027822686095,
          1.017383223111553,
          1.0191072228671303,
          1.0242851859411188,
          1.0287856467795187,
          1.0343178483199529,
          1.0380367150118983,
          1.0555137886074133,
          1.0632853350738438,
          1.064444426678782,
          1.0698570950402178,
          1.066682524746829,
          1.068998733539195
         ]
        },
        {
         "line": {
          "color": "rgba(128, 0, 128, 1.0)",
          "dash": "solid",
          "shape": "linear",
          "width": 1.3
         },
         "mode": "lines",
         "name": "S&P 500",
         "text": "",
         "type": "scatter",
         "x": [
          0,
          1,
          2,
          3,
          4,
          5,
          6,
          7,
          8,
          9,
          10,
          11,
          12,
          13,
          14,
          15,
          16,
          17,
          18,
          19,
          20,
          21,
          22,
          23,
          24,
          25,
          26,
          27,
          28,
          29,
          30,
          31,
          32,
          33,
          34,
          35,
          36,
          37,
          38,
          39,
          40,
          41,
          42,
          43,
          44,
          45,
          46,
          47,
          48,
          49,
          50,
          51,
          52,
          53,
          54,
          55,
          56,
          57,
          58,
          59,
          60,
          61,
          62,
          63,
          64,
          65,
          66,
          67,
          68,
          69,
          70,
          71,
          72,
          73,
          74,
          75,
          76,
          77,
          78,
          79,
          80,
          81,
          82,
          83,
          84,
          85,
          86,
          87,
          88,
          89,
          90,
          91,
          92,
          93,
          94,
          95,
          96,
          97,
          98,
          99,
          100,
          101,
          102,
          103,
          104,
          105,
          106,
          107,
          108,
          109,
          110,
          111,
          112,
          113,
          114,
          115,
          116,
          117,
          118,
          119,
          120,
          121,
          122,
          123,
          124,
          125,
          126,
          127,
          128,
          129,
          130,
          131,
          132,
          133,
          134,
          135,
          136,
          137,
          138,
          139,
          140,
          141,
          142,
          143,
          144,
          145,
          146,
          147,
          148,
          149,
          150,
          151,
          152,
          153,
          154,
          155,
          156,
          157,
          158,
          159,
          160
         ],
         "y": [
          1.0063988187678174,
          1.0104532331222378,
          1.01756052613646,
          1.0192520618530718,
          1.0205800775224427,
          1.0194449608291194,
          1.0266153766139654,
          1.0335446225887093,
          1.0299019074919185,
          1.0395984871573627,
          1.0379180905786511,
          1.0424696056080711,
          1.0508789228462483,
          1.053163917658637,
          1.0525741713615295,
          1.0532084745811838,
          1.0656797230238397,
          1.0585055944403243,
          1.0469691373757133,
          1.0474810899872826,
          0.9787914523050585,
          0.9386813371369133,
          0.9550528040953712,
          0.9502760228653357,
          0.9146060632223194,
          0.9282667019487502,
          0.9411831475856182,
          0.943642392884729,
          0.9562895208774654,
          0.9678310868101905,
          0.9681925422447539,
          0.9625369525123278,
          0.9572463650149637,
          0.9581782933130517,
          0.9735363356475689,
          0.9849822173437246,
          0.9724661579633176,
          0.9616758790755133,
          1.005071602697713,
          1.016159579134265,
          1.0188410806669994,
          1.0183480893579684,
          1.02289305656995,
          1.0406697424149502,
          1.0393439449479687,
          1.0327300001691544,
          1.0268181142903392,
          1.0260152139842424,
          1.0277629768289267,
          1.0131644306530774,
          1.014665743031788,
          1.0127947099523045,
          0.9873098694051805,
          0.9666090613837801,
          0.9928595108594567,
          0.9757065632079799,
          0.9728607617380555,
          0.9862567806817226,
          1.0126148657086849,
          1.0243272579849914,
          1.0313570764980473,
          1.0087494728739093,
          1.0121152146565606,
          1.029044819045906,
          1.0233589712662865,
          1.031802450431812,
          1.0288240233366426,
          1.037166796810276,
          1.0482245556115208,
          1.0490960136583551,
          1.0430887589823636,
          1.0341843981903012,
          1.0342425519413678,
          1.0204038059039324,
          1.022278348182939,
          1.0329450097814639,
          1.0340953231711592,
          1.0256286771649166,
          0.9927941364144521,
          0.990556701620733,
          1.0032469010248992,
          1.0067160741565893,
          1.0064486487434146,
          1.016193306164882,
          1.0257156914795584,
          1.0274671992820958,
          1.0283749557818398,
          1.0213386699391316,
          1.0254858786918764,
          1.0246081937600573,
          1.0219112252999667,
          1.0294598310819911,
          1.0262316900386654,
          1.029565311342211,
          1.0274822810205553,
          1.0250602786545306,
          1.0132062894955904,
          1.0260697452623868,
          1.0190108370003281,
          1.0044795984363044,
          1.0051853388746206,
          1.013797156235869,
          1.0130731138039089,
          1.016239883457275,
          1.0173259469223745,
          1.0190995380584336,
          1.01499651295076,
          1.0175051272030116,
          1.0164702200206917,
          1.0143090745060876,
          1.0102281010902103,
          1.0119577672952513,
          1.005536378857846,
          1.0074086217219176,
          0.9935822716687778,
          0.9957727005926209,
          0.9872047185704218,
          0.9933043504338407,
          0.9940576755436773,
          0.995052649459258,
          1.003630802740886,
          1.0121428782208493,
          1.0210730007304945,
          1.0246194600673186,
          1.01735060188897,
          1.0262514455236553,
          1.0273590147346074,
          1.0263027502102562,
          1.0303809679741733,
          1.0326071189351556,
          1.0285252300803842,
          1.0275497277211143,
          1.0294384148472329,
          1.03436006848548,
          1.0437744053116034,
          1.040609372314535,
          1.0337806764626405,
          1.0278321266601336,
          1.032852807699117,
          1.0049264450595978,
          1.0095935073980913,
          1.0131656786160577,
          1.016027043209936,
          1.0157604580692234,
          1.0142960621713257,
          1.0070804736124737,
          1.0030461173380103,
          1.0094548344287018,
          1.001780792294429,
          1.0097143035233918,
          1.013069701211911,
          1.015529452447731,
          1.0176301120772238,
          1.017224940696154,
          1.0155045466420984,
          1.021799496569033,
          1.0296371171228813,
          1.0299143763326282,
          1.0357863651188828,
          1.031197490780373,
          1.0313361637497624
         ]
        }
       ],
       "layout": {
        "legend": {
         "bgcolor": "#F5F6F9",
         "font": {
          "color": "#4D5663"
         }
        },
        "paper_bgcolor": "#F5F6F9",
        "plot_bgcolor": "#F5F6F9",
        "template": {
         "data": {
          "bar": [
           {
            "error_x": {
             "color": "#2a3f5f"
            },
            "error_y": {
             "color": "#2a3f5f"
            },
            "marker": {
             "line": {
              "color": "#E5ECF6",
              "width": 0.5
             },
             "pattern": {
              "fillmode": "overlay",
              "size": 10,
              "solidity": 0.2
             }
            },
            "type": "bar"
           }
          ],
          "barpolar": [
           {
            "marker": {
             "line": {
              "color": "#E5ECF6",
              "width": 0.5
             },
             "pattern": {
              "fillmode": "overlay",
              "size": 10,
              "solidity": 0.2
             }
            },
            "type": "barpolar"
           }
          ],
          "carpet": [
           {
            "aaxis": {
             "endlinecolor": "#2a3f5f",
             "gridcolor": "white",
             "linecolor": "white",
             "minorgridcolor": "white",
             "startlinecolor": "#2a3f5f"
            },
            "baxis": {
             "endlinecolor": "#2a3f5f",
             "gridcolor": "white",
             "linecolor": "white",
             "minorgridcolor": "white",
             "startlinecolor": "#2a3f5f"
            },
            "type": "carpet"
           }
          ],
          "choropleth": [
           {
            "colorbar": {
             "outlinewidth": 0,
             "ticks": ""
            },
            "type": "choropleth"
           }
          ],
          "contour": [
           {
            "colorbar": {
             "outlinewidth": 0,
             "ticks": ""
            },
            "colorscale": [
             [
              0,
              "#0d0887"
             ],
             [
              0.1111111111111111,
              "#46039f"
             ],
             [
              0.2222222222222222,
              "#7201a8"
             ],
             [
              0.3333333333333333,
              "#9c179e"
             ],
             [
              0.4444444444444444,
              "#bd3786"
             ],
             [
              0.5555555555555556,
              "#d8576b"
             ],
             [
              0.6666666666666666,
              "#ed7953"
             ],
             [
              0.7777777777777778,
              "#fb9f3a"
             ],
             [
              0.8888888888888888,
              "#fdca26"
             ],
             [
              1,
              "#f0f921"
             ]
            ],
            "type": "contour"
           }
          ],
          "contourcarpet": [
           {
            "colorbar": {
             "outlinewidth": 0,
             "ticks": ""
            },
            "type": "contourcarpet"
           }
          ],
          "heatmap": [
           {
            "colorbar": {
             "outlinewidth": 0,
             "ticks": ""
            },
            "colorscale": [
             [
              0,
              "#0d0887"
             ],
             [
              0.1111111111111111,
              "#46039f"
             ],
             [
              0.2222222222222222,
              "#7201a8"
             ],
             [
              0.3333333333333333,
              "#9c179e"
             ],
             [
              0.4444444444444444,
              "#bd3786"
             ],
             [
              0.5555555555555556,
              "#d8576b"
             ],
             [
              0.6666666666666666,
              "#ed7953"
             ],
             [
              0.7777777777777778,
              "#fb9f3a"
             ],
             [
              0.8888888888888888,
              "#fdca26"
             ],
             [
              1,
              "#f0f921"
             ]
            ],
            "type": "heatmap"
           }
          ],
          "heatmapgl": [
           {
            "colorbar": {
             "outlinewidth": 0,
             "ticks": ""
            },
            "colorscale": [
             [
              0,
              "#0d0887"
             ],
             [
              0.1111111111111111,
              "#46039f"
             ],
             [
              0.2222222222222222,
              "#7201a8"
             ],
             [
              0.3333333333333333,
              "#9c179e"
             ],
             [
              0.4444444444444444,
              "#bd3786"
             ],
             [
              0.5555555555555556,
              "#d8576b"
             ],
             [
              0.6666666666666666,
              "#ed7953"
             ],
             [
              0.7777777777777778,
              "#fb9f3a"
             ],
             [
              0.8888888888888888,
              "#fdca26"
             ],
             [
              1,
              "#f0f921"
             ]
            ],
            "type": "heatmapgl"
           }
          ],
          "histogram": [
           {
            "marker": {
             "pattern": {
              "fillmode": "overlay",
              "size": 10,
              "solidity": 0.2
             }
            },
            "type": "histogram"
           }
          ],
          "histogram2d": [
           {
            "colorbar": {
             "outlinewidth": 0,
             "ticks": ""
            },
            "colorscale": [
             [
              0,
              "#0d0887"
             ],
             [
              0.1111111111111111,
              "#46039f"
             ],
             [
              0.2222222222222222,
              "#7201a8"
             ],
             [
              0.3333333333333333,
              "#9c179e"
             ],
             [
              0.4444444444444444,
              "#bd3786"
             ],
             [
              0.5555555555555556,
              "#d8576b"
             ],
             [
              0.6666666666666666,
              "#ed7953"
             ],
             [
              0.7777777777777778,
              "#fb9f3a"
             ],
             [
              0.8888888888888888,
              "#fdca26"
             ],
             [
              1,
              "#f0f921"
             ]
            ],
            "type": "histogram2d"
           }
          ],
          "histogram2dcontour": [
           {
            "colorbar": {
             "outlinewidth": 0,
             "ticks": ""
            },
            "colorscale": [
             [
              0,
              "#0d0887"
             ],
             [
              0.1111111111111111,
              "#46039f"
             ],
             [
              0.2222222222222222,
              "#7201a8"
             ],
             [
              0.3333333333333333,
              "#9c179e"
             ],
             [
              0.4444444444444444,
              "#bd3786"
             ],
             [
              0.5555555555555556,
              "#d8576b"
             ],
             [
              0.6666666666666666,
              "#ed7953"
             ],
             [
              0.7777777777777778,
              "#fb9f3a"
             ],
             [
              0.8888888888888888,
              "#fdca26"
             ],
             [
              1,
              "#f0f921"
             ]
            ],
            "type": "histogram2dcontour"
           }
          ],
          "mesh3d": [
           {
            "colorbar": {
             "outlinewidth": 0,
             "ticks": ""
            },
            "type": "mesh3d"
           }
          ],
          "parcoords": [
           {
            "line": {
             "colorbar": {
              "outlinewidth": 0,
              "ticks": ""
             }
            },
            "type": "parcoords"
           }
          ],
          "pie": [
           {
            "automargin": true,
            "type": "pie"
           }
          ],
          "scatter": [
           {
            "fillpattern": {
             "fillmode": "overlay",
             "size": 10,
             "solidity": 0.2
            },
            "type": "scatter"
           }
          ],
          "scatter3d": [
           {
            "line": {
             "colorbar": {
              "outlinewidth": 0,
              "ticks": ""
             }
            },
            "marker": {
             "colorbar": {
              "outlinewidth": 0,
              "ticks": ""
             }
            },
            "type": "scatter3d"
           }
          ],
          "scattercarpet": [
           {
            "marker": {
             "colorbar": {
              "outlinewidth": 0,
              "ticks": ""
             }
            },
            "type": "scattercarpet"
           }
          ],
          "scattergeo": [
           {
            "marker": {
             "colorbar": {
              "outlinewidth": 0,
              "ticks": ""
             }
            },
            "type": "scattergeo"
           }
          ],
          "scattergl": [
           {
            "marker": {
             "colorbar": {
              "outlinewidth": 0,
              "ticks": ""
             }
            },
            "type": "scattergl"
           }
          ],
          "scattermapbox": [
           {
            "marker": {
             "colorbar": {
              "outlinewidth": 0,
              "ticks": ""
             }
            },
            "type": "scattermapbox"
           }
          ],
          "scatterpolar": [
           {
            "marker": {
             "colorbar": {
              "outlinewidth": 0,
              "ticks": ""
             }
            },
            "type": "scatterpolar"
           }
          ],
          "scatterpolargl": [
           {
            "marker": {
             "colorbar": {
              "outlinewidth": 0,
              "ticks": ""
             }
            },
            "type": "scatterpolargl"
           }
          ],
          "scatterternary": [
           {
            "marker": {
             "colorbar": {
              "outlinewidth": 0,
              "ticks": ""
             }
            },
            "type": "scatterternary"
           }
          ],
          "surface": [
           {
            "colorbar": {
             "outlinewidth": 0,
             "ticks": ""
            },
            "colorscale": [
             [
              0,
              "#0d0887"
             ],
             [
              0.1111111111111111,
              "#46039f"
             ],
             [
              0.2222222222222222,
              "#7201a8"
             ],
             [
              0.3333333333333333,
              "#9c179e"
             ],
             [
              0.4444444444444444,
              "#bd3786"
             ],
             [
              0.5555555555555556,
              "#d8576b"
             ],
             [
              0.6666666666666666,
              "#ed7953"
             ],
             [
              0.7777777777777778,
              "#fb9f3a"
             ],
             [
              0.8888888888888888,
              "#fdca26"
             ],
             [
              1,
              "#f0f921"
             ]
            ],
            "type": "surface"
           }
          ],
          "table": [
           {
            "cells": {
             "fill": {
              "color": "#EBF0F8"
             },
             "line": {
              "color": "white"
             }
            },
            "header": {
             "fill": {
              "color": "#C8D4E3"
             },
             "line": {
              "color": "white"
             }
            },
            "type": "table"
           }
          ]
         },
         "layout": {
          "annotationdefaults": {
           "arrowcolor": "#2a3f5f",
           "arrowhead": 0,
           "arrowwidth": 1
          },
          "autotypenumbers": "strict",
          "coloraxis": {
           "colorbar": {
            "outlinewidth": 0,
            "ticks": ""
           }
          },
          "colorscale": {
           "diverging": [
            [
             0,
             "#8e0152"
            ],
            [
             0.1,
             "#c51b7d"
            ],
            [
             0.2,
             "#de77ae"
            ],
            [
             0.3,
             "#f1b6da"
            ],
            [
             0.4,
             "#fde0ef"
            ],
            [
             0.5,
             "#f7f7f7"
            ],
            [
             0.6,
             "#e6f5d0"
            ],
            [
             0.7,
             "#b8e186"
            ],
            [
             0.8,
             "#7fbc41"
            ],
            [
             0.9,
             "#4d9221"
            ],
            [
             1,
             "#276419"
            ]
           ],
           "sequential": [
            [
             0,
             "#0d0887"
            ],
            [
             0.1111111111111111,
             "#46039f"
            ],
            [
             0.2222222222222222,
             "#7201a8"
            ],
            [
             0.3333333333333333,
             "#9c179e"
            ],
            [
             0.4444444444444444,
             "#bd3786"
            ],
            [
             0.5555555555555556,
             "#d8576b"
            ],
            [
             0.6666666666666666,
             "#ed7953"
            ],
            [
             0.7777777777777778,
             "#fb9f3a"
            ],
            [
             0.8888888888888888,
             "#fdca26"
            ],
            [
             1,
             "#f0f921"
            ]
           ],
           "sequentialminus": [
            [
             0,
             "#0d0887"
            ],
            [
             0.1111111111111111,
             "#46039f"
            ],
            [
             0.2222222222222222,
             "#7201a8"
            ],
            [
             0.3333333333333333,
             "#9c179e"
            ],
            [
             0.4444444444444444,
             "#bd3786"
            ],
            [
             0.5555555555555556,
             "#d8576b"
            ],
            [
             0.6666666666666666,
             "#ed7953"
            ],
            [
             0.7777777777777778,
             "#fb9f3a"
            ],
            [
             0.8888888888888888,
             "#fdca26"
            ],
            [
             1,
             "#f0f921"
            ]
           ]
          },
          "colorway": [
           "#636efa",
           "#EF553B",
           "#00cc96",
           "#ab63fa",
           "#FFA15A",
           "#19d3f3",
           "#FF6692",
           "#B6E880",
           "#FF97FF",
           "#FECB52"
          ],
          "font": {
           "color": "#2a3f5f"
          },
          "geo": {
           "bgcolor": "white",
           "lakecolor": "white",
           "landcolor": "#E5ECF6",
           "showlakes": true,
           "showland": true,
           "subunitcolor": "white"
          },
          "hoverlabel": {
           "align": "left"
          },
          "hovermode": "closest",
          "mapbox": {
           "style": "light"
          },
          "paper_bgcolor": "white",
          "plot_bgcolor": "#E5ECF6",
          "polar": {
           "angularaxis": {
            "gridcolor": "white",
            "linecolor": "white",
            "ticks": ""
           },
           "bgcolor": "#E5ECF6",
           "radialaxis": {
            "gridcolor": "white",
            "linecolor": "white",
            "ticks": ""
           }
          },
          "scene": {
           "xaxis": {
            "backgroundcolor": "#E5ECF6",
            "gridcolor": "white",
            "gridwidth": 2,
            "linecolor": "white",
            "showbackground": true,
            "ticks": "",
            "zerolinecolor": "white"
           },
           "yaxis": {
            "backgroundcolor": "#E5ECF6",
            "gridcolor": "white",
            "gridwidth": 2,
            "linecolor": "white",
            "showbackground": true,
            "ticks": "",
            "zerolinecolor": "white"
           },
           "zaxis": {
            "backgroundcolor": "#E5ECF6",
            "gridcolor": "white",
            "gridwidth": 2,
            "linecolor": "white",
            "showbackground": true,
            "ticks": "",
            "zerolinecolor": "white"
           }
          },
          "shapedefaults": {
           "line": {
            "color": "#2a3f5f"
           }
          },
          "ternary": {
           "aaxis": {
            "gridcolor": "white",
            "linecolor": "white",
            "ticks": ""
           },
           "baxis": {
            "gridcolor": "white",
            "linecolor": "white",
            "ticks": ""
           },
           "bgcolor": "#E5ECF6",
           "caxis": {
            "gridcolor": "white",
            "linecolor": "white",
            "ticks": ""
           }
          },
          "title": {
           "x": 0.05
          },
          "xaxis": {
           "automargin": true,
           "gridcolor": "white",
           "linecolor": "white",
           "ticks": "",
           "title": {
            "standoff": 15
           },
           "zerolinecolor": "white",
           "zerolinewidth": 2
          },
          "yaxis": {
           "automargin": true,
           "gridcolor": "white",
           "linecolor": "white",
           "ticks": "",
           "title": {
            "standoff": 15
           },
           "zerolinecolor": "white",
           "zerolinewidth": 2
          }
         }
        },
        "title": {
         "font": {
          "color": "#4D5663"
         }
        },
        "xaxis": {
         "gridcolor": "#E1E5ED",
         "showgrid": true,
         "tickfont": {
          "color": "#4D5663"
         },
         "title": {
          "font": {
           "color": "#4D5663"
          },
          "text": ""
         },
         "zerolinecolor": "#E1E5ED"
        },
        "yaxis": {
         "gridcolor": "#E1E5ED",
         "showgrid": true,
         "tickfont": {
          "color": "#4D5663"
         },
         "title": {
          "font": {
           "color": "#4D5663"
          },
          "text": ""
         },
         "zerolinecolor": "#E1E5ED"
        }
       }
      },
      "text/html": [
       "<div>                            <div id=\"8d2ce9c2-826d-49bb-a465-324de4bfe8ab\" class=\"plotly-graph-div\" style=\"height:525px; width:100%;\"></div>            <script type=\"text/javascript\">                require([\"plotly\"], function(Plotly) {                    window.PLOTLYENV=window.PLOTLYENV || {};\n",
       "                    window.PLOTLYENV.BASE_URL='https://plot.ly';                                    if (document.getElementById(\"8d2ce9c2-826d-49bb-a465-324de4bfe8ab\")) {                    Plotly.newPlot(                        \"8d2ce9c2-826d-49bb-a465-324de4bfe8ab\",                        [{\"line\":{\"color\":\"rgba(255, 153, 51, 1.0)\",\"dash\":\"solid\",\"shape\":\"linear\",\"width\":1.3},\"mode\":\"lines\",\"name\":\"Deep NNF\",\"text\":\"\",\"x\":[0,1,2,3,4,5,6,7,8,9,10,11,12,13,14,15,16,17,18,19,20,21,22,23,24,25,26,27,28,29,30,31,32,33,34,35,36,37,38,39,40,41,42,43,44,45,46,47,48,49,50,51,52,53,54,55,56,57,58,59,60,61,62,63,64,65,66,67,68,69,70,71,72,73,74,75,76,77,78,79,80,81,82,83,84,85,86,87,88,89,90,91,92,93,94,95,96,97,98,99,100,101,102,103,104,105,106,107,108,109,110,111,112,113,114,115,116,117,118,119,120,121,122,123,124,125,126,127,128,129,130,131,132,133,134,135,136,137,138,139,140,141,142,143,144,145,146,147,148,149,150,151,152,153,154,155,156,157,158,159,160],\"y\":[1.0097524147262955,1.0136796491605593,1.031215280199608,1.0174211271729399,1.020260222958715,1.0132234692478344,1.0198920576343853,1.033849946160573,1.049039974349443,1.0720698015649541,1.0896338128294185,1.0906546888435713,1.0912654463776454,1.0983513267216525,1.0944965598206717,1.0946150898471938,1.1078260244945257,1.1012101012757305,1.0596236628942166,1.0633904572684891,0.975977552560721,0.9368567601667226,0.961649672907344,0.9622291856223748,0.925121664506019,0.9416450476404288,0.956369355421666,0.9573801650859705,0.9618340097323748,0.9553333254306408,0.9560627787956202,0.9547087829155574,0.9514318479340241,0.9478725949140457,0.9609662402370748,0.9752183511128145,0.970019500093506,0.9615264785157318,1.0034384663589333,1.0088897024415513,1.0246546974441295,1.0222972116505324,1.0166982768026802,1.0273562544551003,1.0300080711840516,1.0329547008826332,1.0153235415793276,1.009036900004667,1.0176318826776931,1.0043714842077434,1.002947400626273,1.0153724031781648,0.9906673106072718,1.0101640450054106,1.0278939855854037,1.0089364968864356,0.9910596033059956,1.0181205988362283,1.021291109009328,1.0220933359148543,1.03327672275494,1.003987730805448,1.008118900346272,1.0223805286364887,1.014522494769556,1.02690069417,1.023033168800142,1.0358175935503182,1.050321365011467,1.0548479331982672,1.0485952684347355,1.05551187446228,1.0454064917212849,1.005226572101725,1.005764153497691,0.9951366920170488,0.9815778782547528,0.9707821334628924,0.9588291097387074,0.9818206034708175,0.9890389021957563,0.99812860052725,1.0121641984987346,1.0294078953584422,1.0585483895584515,1.058681988145886,1.0534687893393069,1.0398342929716,1.0402352924499918,1.0585483895584538,1.0799358849759841,1.0860847834521683,1.0776634858910406,1.0838123843672254,1.0900949834225604,1.0822082839272593,1.0791338857518613,1.0907632820675395,1.0970458811228714,0.9996487714953618,0.9922735253083262,1.0005854728894006,1.0028097359888615,1.0159212541768725,1.0191992947179478,1.0202527040869394,1.0227113036194624,1.0319596764496282,1.0442518455567629,1.0410910651598944,1.0214235578174087,1.018496929756971,1.018730990045086,1.0046827705836758,0.991570884202402,0.9834933651027056,0.9758838744102836,0.9930931505341488,0.997307524276,0.9961248700843869,1.006024796334729,1.0142097793932934,1.024191261917727,1.0270769759520448,1.0186631902448025,1.0274924667057808,1.0285220797510797,1.0217879572331097,1.0274942516252654,1.0315750949696416,1.028186259327806,1.0250178646373242,1.0227595588336698,1.0194301105544663,1.0247974734542353,1.0188747790123491,1.0132501314901317,1.0037007313587845,1.009623901566586,1.062892279876091,1.06521734757958,1.0762614195599274,1.07521524857821,1.083817615988805,1.0741688950519583,1.0660311579103123,1.060916209570228,1.0621948325948207,1.056149619841521,1.064170902900684,1.0633575489312885,1.0713789232627189,1.0705648392348077,1.04243212166593,1.04243212166593,1.0416181289102862,1.0390606090442989,1.0410368618946966,1.0442921941310237,1.0440595595436135,1.0532431938501752],\"type\":\"scatter\"},{\"line\":{\"color\":\"rgba(55, 128, 191, 1.0)\",\"dash\":\"solid\",\"shape\":\"linear\",\"width\":1.3},\"mode\":\"lines\",\"name\":\"Shallow NNF\",\"text\":\"\",\"x\":[0,1,2,3,4,5,6,7,8,9,10,11,12,13,14,15,16,17,18,19,20,21,22,23,24,25,26,27,28,29,30,31,32,33,34,35,36,37,38,39,40,41,42,43,44,45,46,47,48,49,50,51,52,53,54,55,56,57,58,59,60,61,62,63,64,65,66,67,68,69,70,71,72,73,74,75,76,77,78,79,80,81,82,83,84,85,86,87,88,89,90,91,92,93,94,95,96,97,98,99,100,101,102,103,104,105,106,107,108,109,110,111,112,113,114,115,116,117,118,119,120,121,122,123,124,125,126,127,128,129,130,131,132,133,134,135,136,137,138,139,140,141,142,143,144,145,146,147,148,149,150,151,152,153,154,155,156,157,158,159,160],\"y\":[1.0049293298463837,1.0096770691381143,1.0167271415004455,1.0203801176369418,1.0228805237230851,1.0208354288456192,1.0291681210917427,1.0355408240635942,1.030414916893695,1.0396458907947386,1.037066220317057,1.043924179116393,1.0477692047102933,1.054068212679827,1.0535693080435504,1.0521111700144332,1.0608285090080853,1.0535441122467322,1.0443726938992177,1.045550282720146,0.9789286671978368,0.9423024316693713,0.9489093334912104,0.9441329357815584,0.910617688126319,0.9230240824013132,0.9335804120942595,0.9356868704244345,0.9501827436785528,0.9620446229273066,0.9647543853872673,0.9558694349363906,0.9506294919670083,0.9531887223003433,0.9658626310919162,0.9736141367169371,0.9612679792510564,0.9511987693972563,1.0084431787895287,1.021662561405013,1.025918476918903,1.0257272741919576,1.0287458204020732,1.0465672971059654,1.046883558530725,1.0409173578529027,1.0356572303021596,1.0344677742316903,1.0390629919693237,1.0276289032821166,1.0267735184485378,1.0255677987703666,1.0034828827471283,0.9832954618764949,1.0056678626382873,0.9945168536368713,0.9951710447462281,1.006352494611986,1.0096099226911668,1.0197838457473538,1.024686951289885,1.003528481339146,1.005488352660359,1.0178180938235388,1.0147231339658698,1.0217893778922496,1.01901501763195,1.0283271347952314,1.0373606027359157,1.0377945467674672,1.0361897885012248,1.029424084970982,1.0323911778529988,1.0230384678736628,1.025497761291505,1.0329194644271718,1.0347649668565335,1.0271170778126046,0.9887379241132971,0.9861368029956888,0.998320694261896,1.000685025408057,0.9992549813682654,1.00759121051021,1.0190672474160452,1.0189842136864835,1.0164481456280505,1.0096355780547925,1.013639421379057,1.0132213449258096,1.0104457014148018,1.0158932589524925,1.0128197733867421,1.0145785015587443,1.016506217973197,1.01606921133323,1.009147377550886,1.020725537822223,1.0132069534875021,1.0047021391319935,1.0044549944989218,1.0121829229332657,1.0131031470057081,1.016865948950044,1.0170074164265845,1.0209716702534952,1.0155251529389857,1.0179308770472135,1.018931600674542,1.0176093586674135,1.0146053029356887,1.013698238549567,1.007688296327077,1.010961456394619,1.0009826528818588,1.0018597162901581,0.992235272787526,0.9956296400831888,0.9986818246570194,0.9968828703664829,1.0051459413675516,1.0132536858729047,1.016459888992551,1.0213712377128203,1.0156077405648563,1.0230234615571216,1.0242371796824326,1.0225372472819219,1.0265655171673376,1.0288239568516082,1.0294467914155865,1.025030403727203,1.024383723284817,1.0210719135120312,1.0281144213390438,1.0249035022947812,1.019041399195727,1.0094792209629737,1.0193500748517865,1.0057408917751318,1.0112523319965707,1.015460401709434,1.0176347584116248,1.0150301417840724,1.013283195823927,1.0028817046830036,1.0001122001597411,1.006264991154452,1.0020594991501683,1.0109797131774536,1.0136771734572434,1.0180778656144116,1.021164254690924,1.017036285979333,1.0143225647771266,1.0186288758186541,1.0238096626163309,1.0237293431283532,1.0281206535229577,1.0241132533619821,1.0243334065015637],\"type\":\"scatter\"},{\"line\":{\"color\":\"rgba(50, 171, 96, 1.0)\",\"dash\":\"solid\",\"shape\":\"linear\",\"width\":1.3},\"mode\":\"lines\",\"name\":\"1/N Model\",\"text\":\"\",\"x\":[0,1,2,3,4,5,6,7,8,9,10,11,12,13,14,15,16,17,18,19,20,21,22,23,24,25,26,27,28,29,30,31,32,33,34,35,36,37,38,39,40,41,42,43,44,45,46,47,48,49,50,51,52,53,54,55,56,57,58,59,60,61,62,63,64,65,66,67,68,69,70,71,72,73,74,75,76,77,78,79,80,81,82,83,84,85,86,87,88,89,90,91,92,93,94,95,96,97,98,99,100,101,102,103,104,105,106,107,108,109,110,111,112,113,114,115,116,117,118,119,120,121,122,123,124,125,126,127,128,129,130,131,132,133,134,135,136,137,138,139,140,141,142,143,144,145,146,147,148,149,150,151,152,153,154,155,156,157,158,159,160],\"y\":[1.0101748043331409,1.0133924280288806,1.0234092937812873,1.027919190237807,1.0296991907636492,1.0237150353031566,1.0291941022052027,1.0367190596891427,1.0330759938006975,1.0478775914135972,1.048233566465215,1.0552270304091549,1.058972157099582,1.060133133348062,1.0534098205627418,1.0517699706328174,1.062424759323361,1.0553933809888374,1.0479652460408795,1.0556370143152665,0.9817954282890538,0.9460069607427578,0.9576544516910113,0.9512550807299485,0.9143891920796944,0.9319407460151925,0.9474867354239268,0.9508895081514427,0.9706836347758645,0.9842698360204991,0.9830677357153274,0.9839044763997421,0.9788179671833913,0.9747025122965065,0.9917350584683706,0.9998978036770595,0.991063546453204,0.9824393978893285,1.0109404383672207,1.022911741333851,1.0301108050810228,1.0345710093705451,1.0390106561005341,1.0595904400210976,1.0584371391073257,1.0519430551896014,1.0472819787353453,1.046655850047086,1.0465680788842837,1.0333194351121544,1.040668023633225,1.0419967204825642,1.0109168063126717,0.9921828508071194,1.0221665905423811,0.993912360340652,0.9828279603730622,0.9993915535545828,1.0101019366598711,1.022346739494096,1.0276145157274261,1.0017045587753275,1.0064632905086621,1.0294419321749424,1.0224824878531222,1.0343539604250425,1.0242399943623415,1.0315972586752251,1.050367086994726,1.0521904624170038,1.0398166128667157,1.0337031165408346,1.030137716935444,1.012742634576368,1.0137146221126014,1.0305436165062607,1.0306029259399498,1.024173422068656,0.9945460998868304,1.0008984401238532,1.0165660617164805,1.023550424660574,1.0258521770836424,1.0402312084574499,1.0530082182695266,1.0527856827440987,1.0518011869875445,1.0442112281759877,1.047725179750574,1.0457347792679677,1.0430204474668856,1.051399184554003,1.0473042453859,1.0583439723853156,1.0600517146092392,1.0599046007264863,1.0556242780043608,1.0664764620033993,1.0592540192753024,1.0082346257349015,1.0157187940703492,1.025447208656829,1.0161468685480939,1.0220629051101726,1.024790558337544,1.0314374573051837,1.0320221689155142,1.0358520465517027,1.0337550251810905,1.0366752250452467,1.0273256565724196,1.0317245930058454,1.020292618077912,1.0146721222129207,0.9905992398087637,0.9958794164307194,0.9793963514854575,0.9908928435919642,0.990845541326473,0.9956221881089472,1.0055226636788084,1.0140828434205327,1.0236149699457333,1.0265989269842453,1.0188301104140227,1.027576999367756,1.0283631314775905,1.0222143716567176,1.0275570239443392,1.0315309466579774,1.0280211913360522,1.0250807568122409,1.0229895465390522,1.019436803542509,1.0247421877941074,1.019463842503291,1.0138628574054078,1.0036958807145457,1.009576105368671,1.013757533330992,1.0134311091680883,1.02089003524517,1.026715128201307,1.026433120580349,1.0269707011284144,1.0215141192949548,1.0164468962847142,1.024477010929288,1.0121027822686095,1.017383223111553,1.0191072228671303,1.0242851859411188,1.0287856467795187,1.0343178483199529,1.0380367150118983,1.0555137886074133,1.0632853350738438,1.064444426678782,1.0698570950402178,1.066682524746829,1.068998733539195],\"type\":\"scatter\"},{\"line\":{\"color\":\"rgba(128, 0, 128, 1.0)\",\"dash\":\"solid\",\"shape\":\"linear\",\"width\":1.3},\"mode\":\"lines\",\"name\":\"S&P 500\",\"text\":\"\",\"x\":[0,1,2,3,4,5,6,7,8,9,10,11,12,13,14,15,16,17,18,19,20,21,22,23,24,25,26,27,28,29,30,31,32,33,34,35,36,37,38,39,40,41,42,43,44,45,46,47,48,49,50,51,52,53,54,55,56,57,58,59,60,61,62,63,64,65,66,67,68,69,70,71,72,73,74,75,76,77,78,79,80,81,82,83,84,85,86,87,88,89,90,91,92,93,94,95,96,97,98,99,100,101,102,103,104,105,106,107,108,109,110,111,112,113,114,115,116,117,118,119,120,121,122,123,124,125,126,127,128,129,130,131,132,133,134,135,136,137,138,139,140,141,142,143,144,145,146,147,148,149,150,151,152,153,154,155,156,157,158,159,160],\"y\":[1.0063988187678174,1.0104532331222378,1.01756052613646,1.0192520618530718,1.0205800775224427,1.0194449608291194,1.0266153766139654,1.0335446225887093,1.0299019074919185,1.0395984871573627,1.0379180905786511,1.0424696056080711,1.0508789228462483,1.053163917658637,1.0525741713615295,1.0532084745811838,1.0656797230238397,1.0585055944403243,1.0469691373757133,1.0474810899872826,0.9787914523050585,0.9386813371369133,0.9550528040953712,0.9502760228653357,0.9146060632223194,0.9282667019487502,0.9411831475856182,0.943642392884729,0.9562895208774654,0.9678310868101905,0.9681925422447539,0.9625369525123278,0.9572463650149637,0.9581782933130517,0.9735363356475689,0.9849822173437246,0.9724661579633176,0.9616758790755133,1.005071602697713,1.016159579134265,1.0188410806669994,1.0183480893579684,1.02289305656995,1.0406697424149502,1.0393439449479687,1.0327300001691544,1.0268181142903392,1.0260152139842424,1.0277629768289267,1.0131644306530774,1.014665743031788,1.0127947099523045,0.9873098694051805,0.9666090613837801,0.9928595108594567,0.9757065632079799,0.9728607617380555,0.9862567806817226,1.0126148657086849,1.0243272579849914,1.0313570764980473,1.0087494728739093,1.0121152146565606,1.029044819045906,1.0233589712662865,1.031802450431812,1.0288240233366426,1.037166796810276,1.0482245556115208,1.0490960136583551,1.0430887589823636,1.0341843981903012,1.0342425519413678,1.0204038059039324,1.022278348182939,1.0329450097814639,1.0340953231711592,1.0256286771649166,0.9927941364144521,0.990556701620733,1.0032469010248992,1.0067160741565893,1.0064486487434146,1.016193306164882,1.0257156914795584,1.0274671992820958,1.0283749557818398,1.0213386699391316,1.0254858786918764,1.0246081937600573,1.0219112252999667,1.0294598310819911,1.0262316900386654,1.029565311342211,1.0274822810205553,1.0250602786545306,1.0132062894955904,1.0260697452623868,1.0190108370003281,1.0044795984363044,1.0051853388746206,1.013797156235869,1.0130731138039089,1.016239883457275,1.0173259469223745,1.0190995380584336,1.01499651295076,1.0175051272030116,1.0164702200206917,1.0143090745060876,1.0102281010902103,1.0119577672952513,1.005536378857846,1.0074086217219176,0.9935822716687778,0.9957727005926209,0.9872047185704218,0.9933043504338407,0.9940576755436773,0.995052649459258,1.003630802740886,1.0121428782208493,1.0210730007304945,1.0246194600673186,1.01735060188897,1.0262514455236553,1.0273590147346074,1.0263027502102562,1.0303809679741733,1.0326071189351556,1.0285252300803842,1.0275497277211143,1.0294384148472329,1.03436006848548,1.0437744053116034,1.040609372314535,1.0337806764626405,1.0278321266601336,1.032852807699117,1.0049264450595978,1.0095935073980913,1.0131656786160577,1.016027043209936,1.0157604580692234,1.0142960621713257,1.0070804736124737,1.0030461173380103,1.0094548344287018,1.001780792294429,1.0097143035233918,1.013069701211911,1.015529452447731,1.0176301120772238,1.017224940696154,1.0155045466420984,1.021799496569033,1.0296371171228813,1.0299143763326282,1.0357863651188828,1.031197490780373,1.0313361637497624],\"type\":\"scatter\"}],                        {\"legend\":{\"bgcolor\":\"#F5F6F9\",\"font\":{\"color\":\"#4D5663\"}},\"paper_bgcolor\":\"#F5F6F9\",\"plot_bgcolor\":\"#F5F6F9\",\"template\":{\"data\":{\"barpolar\":[{\"marker\":{\"line\":{\"color\":\"#E5ECF6\",\"width\":0.5},\"pattern\":{\"fillmode\":\"overlay\",\"size\":10,\"solidity\":0.2}},\"type\":\"barpolar\"}],\"bar\":[{\"error_x\":{\"color\":\"#2a3f5f\"},\"error_y\":{\"color\":\"#2a3f5f\"},\"marker\":{\"line\":{\"color\":\"#E5ECF6\",\"width\":0.5},\"pattern\":{\"fillmode\":\"overlay\",\"size\":10,\"solidity\":0.2}},\"type\":\"bar\"}],\"carpet\":[{\"aaxis\":{\"endlinecolor\":\"#2a3f5f\",\"gridcolor\":\"white\",\"linecolor\":\"white\",\"minorgridcolor\":\"white\",\"startlinecolor\":\"#2a3f5f\"},\"baxis\":{\"endlinecolor\":\"#2a3f5f\",\"gridcolor\":\"white\",\"linecolor\":\"white\",\"minorgridcolor\":\"white\",\"startlinecolor\":\"#2a3f5f\"},\"type\":\"carpet\"}],\"choropleth\":[{\"colorbar\":{\"outlinewidth\":0,\"ticks\":\"\"},\"type\":\"choropleth\"}],\"contourcarpet\":[{\"colorbar\":{\"outlinewidth\":0,\"ticks\":\"\"},\"type\":\"contourcarpet\"}],\"contour\":[{\"colorbar\":{\"outlinewidth\":0,\"ticks\":\"\"},\"colorscale\":[[0.0,\"#0d0887\"],[0.1111111111111111,\"#46039f\"],[0.2222222222222222,\"#7201a8\"],[0.3333333333333333,\"#9c179e\"],[0.4444444444444444,\"#bd3786\"],[0.5555555555555556,\"#d8576b\"],[0.6666666666666666,\"#ed7953\"],[0.7777777777777778,\"#fb9f3a\"],[0.8888888888888888,\"#fdca26\"],[1.0,\"#f0f921\"]],\"type\":\"contour\"}],\"heatmapgl\":[{\"colorbar\":{\"outlinewidth\":0,\"ticks\":\"\"},\"colorscale\":[[0.0,\"#0d0887\"],[0.1111111111111111,\"#46039f\"],[0.2222222222222222,\"#7201a8\"],[0.3333333333333333,\"#9c179e\"],[0.4444444444444444,\"#bd3786\"],[0.5555555555555556,\"#d8576b\"],[0.6666666666666666,\"#ed7953\"],[0.7777777777777778,\"#fb9f3a\"],[0.8888888888888888,\"#fdca26\"],[1.0,\"#f0f921\"]],\"type\":\"heatmapgl\"}],\"heatmap\":[{\"colorbar\":{\"outlinewidth\":0,\"ticks\":\"\"},\"colorscale\":[[0.0,\"#0d0887\"],[0.1111111111111111,\"#46039f\"],[0.2222222222222222,\"#7201a8\"],[0.3333333333333333,\"#9c179e\"],[0.4444444444444444,\"#bd3786\"],[0.5555555555555556,\"#d8576b\"],[0.6666666666666666,\"#ed7953\"],[0.7777777777777778,\"#fb9f3a\"],[0.8888888888888888,\"#fdca26\"],[1.0,\"#f0f921\"]],\"type\":\"heatmap\"}],\"histogram2dcontour\":[{\"colorbar\":{\"outlinewidth\":0,\"ticks\":\"\"},\"colorscale\":[[0.0,\"#0d0887\"],[0.1111111111111111,\"#46039f\"],[0.2222222222222222,\"#7201a8\"],[0.3333333333333333,\"#9c179e\"],[0.4444444444444444,\"#bd3786\"],[0.5555555555555556,\"#d8576b\"],[0.6666666666666666,\"#ed7953\"],[0.7777777777777778,\"#fb9f3a\"],[0.8888888888888888,\"#fdca26\"],[1.0,\"#f0f921\"]],\"type\":\"histogram2dcontour\"}],\"histogram2d\":[{\"colorbar\":{\"outlinewidth\":0,\"ticks\":\"\"},\"colorscale\":[[0.0,\"#0d0887\"],[0.1111111111111111,\"#46039f\"],[0.2222222222222222,\"#7201a8\"],[0.3333333333333333,\"#9c179e\"],[0.4444444444444444,\"#bd3786\"],[0.5555555555555556,\"#d8576b\"],[0.6666666666666666,\"#ed7953\"],[0.7777777777777778,\"#fb9f3a\"],[0.8888888888888888,\"#fdca26\"],[1.0,\"#f0f921\"]],\"type\":\"histogram2d\"}],\"histogram\":[{\"marker\":{\"pattern\":{\"fillmode\":\"overlay\",\"size\":10,\"solidity\":0.2}},\"type\":\"histogram\"}],\"mesh3d\":[{\"colorbar\":{\"outlinewidth\":0,\"ticks\":\"\"},\"type\":\"mesh3d\"}],\"parcoords\":[{\"line\":{\"colorbar\":{\"outlinewidth\":0,\"ticks\":\"\"}},\"type\":\"parcoords\"}],\"pie\":[{\"automargin\":true,\"type\":\"pie\"}],\"scatter3d\":[{\"line\":{\"colorbar\":{\"outlinewidth\":0,\"ticks\":\"\"}},\"marker\":{\"colorbar\":{\"outlinewidth\":0,\"ticks\":\"\"}},\"type\":\"scatter3d\"}],\"scattercarpet\":[{\"marker\":{\"colorbar\":{\"outlinewidth\":0,\"ticks\":\"\"}},\"type\":\"scattercarpet\"}],\"scattergeo\":[{\"marker\":{\"colorbar\":{\"outlinewidth\":0,\"ticks\":\"\"}},\"type\":\"scattergeo\"}],\"scattergl\":[{\"marker\":{\"colorbar\":{\"outlinewidth\":0,\"ticks\":\"\"}},\"type\":\"scattergl\"}],\"scattermapbox\":[{\"marker\":{\"colorbar\":{\"outlinewidth\":0,\"ticks\":\"\"}},\"type\":\"scattermapbox\"}],\"scatterpolargl\":[{\"marker\":{\"colorbar\":{\"outlinewidth\":0,\"ticks\":\"\"}},\"type\":\"scatterpolargl\"}],\"scatterpolar\":[{\"marker\":{\"colorbar\":{\"outlinewidth\":0,\"ticks\":\"\"}},\"type\":\"scatterpolar\"}],\"scatter\":[{\"fillpattern\":{\"fillmode\":\"overlay\",\"size\":10,\"solidity\":0.2},\"type\":\"scatter\"}],\"scatterternary\":[{\"marker\":{\"colorbar\":{\"outlinewidth\":0,\"ticks\":\"\"}},\"type\":\"scatterternary\"}],\"surface\":[{\"colorbar\":{\"outlinewidth\":0,\"ticks\":\"\"},\"colorscale\":[[0.0,\"#0d0887\"],[0.1111111111111111,\"#46039f\"],[0.2222222222222222,\"#7201a8\"],[0.3333333333333333,\"#9c179e\"],[0.4444444444444444,\"#bd3786\"],[0.5555555555555556,\"#d8576b\"],[0.6666666666666666,\"#ed7953\"],[0.7777777777777778,\"#fb9f3a\"],[0.8888888888888888,\"#fdca26\"],[1.0,\"#f0f921\"]],\"type\":\"surface\"}],\"table\":[{\"cells\":{\"fill\":{\"color\":\"#EBF0F8\"},\"line\":{\"color\":\"white\"}},\"header\":{\"fill\":{\"color\":\"#C8D4E3\"},\"line\":{\"color\":\"white\"}},\"type\":\"table\"}]},\"layout\":{\"annotationdefaults\":{\"arrowcolor\":\"#2a3f5f\",\"arrowhead\":0,\"arrowwidth\":1},\"autotypenumbers\":\"strict\",\"coloraxis\":{\"colorbar\":{\"outlinewidth\":0,\"ticks\":\"\"}},\"colorscale\":{\"diverging\":[[0,\"#8e0152\"],[0.1,\"#c51b7d\"],[0.2,\"#de77ae\"],[0.3,\"#f1b6da\"],[0.4,\"#fde0ef\"],[0.5,\"#f7f7f7\"],[0.6,\"#e6f5d0\"],[0.7,\"#b8e186\"],[0.8,\"#7fbc41\"],[0.9,\"#4d9221\"],[1,\"#276419\"]],\"sequential\":[[0.0,\"#0d0887\"],[0.1111111111111111,\"#46039f\"],[0.2222222222222222,\"#7201a8\"],[0.3333333333333333,\"#9c179e\"],[0.4444444444444444,\"#bd3786\"],[0.5555555555555556,\"#d8576b\"],[0.6666666666666666,\"#ed7953\"],[0.7777777777777778,\"#fb9f3a\"],[0.8888888888888888,\"#fdca26\"],[1.0,\"#f0f921\"]],\"sequentialminus\":[[0.0,\"#0d0887\"],[0.1111111111111111,\"#46039f\"],[0.2222222222222222,\"#7201a8\"],[0.3333333333333333,\"#9c179e\"],[0.4444444444444444,\"#bd3786\"],[0.5555555555555556,\"#d8576b\"],[0.6666666666666666,\"#ed7953\"],[0.7777777777777778,\"#fb9f3a\"],[0.8888888888888888,\"#fdca26\"],[1.0,\"#f0f921\"]]},\"colorway\":[\"#636efa\",\"#EF553B\",\"#00cc96\",\"#ab63fa\",\"#FFA15A\",\"#19d3f3\",\"#FF6692\",\"#B6E880\",\"#FF97FF\",\"#FECB52\"],\"font\":{\"color\":\"#2a3f5f\"},\"geo\":{\"bgcolor\":\"white\",\"lakecolor\":\"white\",\"landcolor\":\"#E5ECF6\",\"showlakes\":true,\"showland\":true,\"subunitcolor\":\"white\"},\"hoverlabel\":{\"align\":\"left\"},\"hovermode\":\"closest\",\"mapbox\":{\"style\":\"light\"},\"paper_bgcolor\":\"white\",\"plot_bgcolor\":\"#E5ECF6\",\"polar\":{\"angularaxis\":{\"gridcolor\":\"white\",\"linecolor\":\"white\",\"ticks\":\"\"},\"bgcolor\":\"#E5ECF6\",\"radialaxis\":{\"gridcolor\":\"white\",\"linecolor\":\"white\",\"ticks\":\"\"}},\"scene\":{\"xaxis\":{\"backgroundcolor\":\"#E5ECF6\",\"gridcolor\":\"white\",\"gridwidth\":2,\"linecolor\":\"white\",\"showbackground\":true,\"ticks\":\"\",\"zerolinecolor\":\"white\"},\"yaxis\":{\"backgroundcolor\":\"#E5ECF6\",\"gridcolor\":\"white\",\"gridwidth\":2,\"linecolor\":\"white\",\"showbackground\":true,\"ticks\":\"\",\"zerolinecolor\":\"white\"},\"zaxis\":{\"backgroundcolor\":\"#E5ECF6\",\"gridcolor\":\"white\",\"gridwidth\":2,\"linecolor\":\"white\",\"showbackground\":true,\"ticks\":\"\",\"zerolinecolor\":\"white\"}},\"shapedefaults\":{\"line\":{\"color\":\"#2a3f5f\"}},\"ternary\":{\"aaxis\":{\"gridcolor\":\"white\",\"linecolor\":\"white\",\"ticks\":\"\"},\"baxis\":{\"gridcolor\":\"white\",\"linecolor\":\"white\",\"ticks\":\"\"},\"bgcolor\":\"#E5ECF6\",\"caxis\":{\"gridcolor\":\"white\",\"linecolor\":\"white\",\"ticks\":\"\"}},\"title\":{\"x\":0.05},\"xaxis\":{\"automargin\":true,\"gridcolor\":\"white\",\"linecolor\":\"white\",\"ticks\":\"\",\"title\":{\"standoff\":15},\"zerolinecolor\":\"white\",\"zerolinewidth\":2},\"yaxis\":{\"automargin\":true,\"gridcolor\":\"white\",\"linecolor\":\"white\",\"ticks\":\"\",\"title\":{\"standoff\":15},\"zerolinecolor\":\"white\",\"zerolinewidth\":2}}},\"title\":{\"font\":{\"color\":\"#4D5663\"}},\"xaxis\":{\"gridcolor\":\"#E1E5ED\",\"showgrid\":true,\"tickfont\":{\"color\":\"#4D5663\"},\"title\":{\"font\":{\"color\":\"#4D5663\"},\"text\":\"\"},\"zerolinecolor\":\"#E1E5ED\"},\"yaxis\":{\"gridcolor\":\"#E1E5ED\",\"showgrid\":true,\"tickfont\":{\"color\":\"#4D5663\"},\"title\":{\"font\":{\"color\":\"#4D5663\"},\"text\":\"\"},\"zerolinecolor\":\"#E1E5ED\"}},                        {\"showLink\": true, \"linkText\": \"Export to plot.ly\", \"plotlyServerURL\": \"https://plot.ly\", \"responsive\": true}                    ).then(function(){\n",
       "                            \n",
       "var gd = document.getElementById('8d2ce9c2-826d-49bb-a465-324de4bfe8ab');\n",
       "var x = new MutationObserver(function (mutations, observer) {{\n",
       "        var display = window.getComputedStyle(gd).display;\n",
       "        if (!display || display === 'none') {{\n",
       "            console.log([gd, 'removed!']);\n",
       "            Plotly.purge(gd);\n",
       "            observer.disconnect();\n",
       "        }}\n",
       "}});\n",
       "\n",
       "// Listen for the removal of the full notebook cells\n",
       "var notebookContainer = gd.closest('#notebook-container');\n",
       "if (notebookContainer) {{\n",
       "    x.observe(notebookContainer, {childList: true});\n",
       "}}\n",
       "\n",
       "// Listen for the clearing of the current output cell\n",
       "var outputEl = gd.closest('.output');\n",
       "if (outputEl) {{\n",
       "    x.observe(outputEl, {childList: true});\n",
       "}}\n",
       "\n",
       "                        })                };                });            </script>        </div>"
      ]
     },
     "metadata": {},
     "output_type": "display_data"
    }
   ],
   "source": [
    "# importing a module for better and more interactive plot\n",
    "import cufflinks as cf\n",
    "cf.set_config_file(offline = True)\n",
    "\n",
    "'''\n",
    "plotting deep nnf, shallow nnf and, 1/n model performance on the test dataset, compare them with\n",
    "index (s&p) for better understanding\n",
    "'''\n",
    "plot_test.iplot()"
   ]
  }
 ],
 "metadata": {
  "kernelspec": {
   "display_name": "base",
   "language": "python",
   "name": "python3"
  },
  "language_info": {
   "codemirror_mode": {
    "name": "ipython",
    "version": 3
   },
   "file_extension": ".py",
   "mimetype": "text/x-python",
   "name": "python",
   "nbconvert_exporter": "python",
   "pygments_lexer": "ipython3",
   "version": "3.9.13"
  },
  "orig_nbformat": 4,
  "vscode": {
   "interpreter": {
    "hash": "72a5606bcafec1593511b6d198bb0982fb8ea54acb1913d581966686ae52246b"
   }
  }
 },
 "nbformat": 4,
 "nbformat_minor": 2
}
